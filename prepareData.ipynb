{
 "cells": [
  {
   "cell_type": "code",
   "execution_count": 4,
   "metadata": {},
   "outputs": [],
   "source": [
    "import librosa\n",
    "import os as os\n",
    "from scipy.misc import comb\n",
    "from sklearn.model_selection import train_test_split\n",
    "from keras.utils import to_categorical\n",
    "import numpy as np\n",
    "from tqdm import tqdm"
   ]
  },
  {
   "cell_type": "code",
   "execution_count": 5,
   "metadata": {},
   "outputs": [],
   "source": [
    "DATA_PATH = \"./large_files/audio/\"  \n",
    "\n",
    "\n",
    "# Input: Folder Path\n",
    "# Output: Tuple (Label, Indices of the labels, one-hot encoded labels)\n",
    "def get_labels(path=DATA_PATH):\n",
    "    labels = os.listdir(path)\n",
    "    label_indices = np.arange(0, len(labels))\n",
    "    return labels, label_indices, to_categorical(label_indices)\n",
    "\n",
    "\n",
    "# Handy function to convert wav2mfcc\n",
    "def wav2mfcc(file_path, max_len=11):\n",
    "    wave, sr = librosa.load(file_path, mono=True, sr=None)\n",
    "    wave = wave[::3]\n",
    "    mfcc = librosa.feature.mfcc(wave, sr=16000)\n",
    "\n",
    "    # If maximum length exceeds mfcc lengths then pad the remaining ones\n",
    "    if (max_len > mfcc.shape[1]):\n",
    "        pad_width = max_len - mfcc.shape[1]\n",
    "        mfcc = np.pad(mfcc, pad_width=((0, 0), (0, pad_width)), mode='constant')\n",
    "\n",
    "    # Else cutoff the remaining parts\n",
    "    else:\n",
    "        mfcc = mfcc[:, :max_len]\n",
    "    return mfcc\n",
    "\n",
    "\n",
    "def save_data_to_array(path=DATA_PATH, max_len=11):\n",
    "    labels, _, _ = get_labels(path)\n",
    "\n",
    "    for label in labels:\n",
    "        # Init mfcc vectors\n",
    "        mfcc_vectors = []\n",
    "\n",
    "        wavfiles = [path + label + '/' + wavfile for wavfile in os.listdir(path + '/' + label)]\n",
    "        for wavfile in tqdm(wavfiles, \"Saving vectors of label - '{}'\".format(label)):\n",
    "            mfcc = wav2mfcc(wavfile, max_len=max_len)\n",
    "            mfcc_vectors.append(mfcc)\n",
    "        np.save(label + '.npy', mfcc_vectors)\n",
    "\n",
    "\n"
   ]
  },
  {
   "cell_type": "code",
   "execution_count": 6,
   "metadata": {},
   "outputs": [
    {
     "name": "stderr",
     "output_type": "stream",
     "text": [
      "Saving vectors of label - 'bed': 100%|████████████████████████████████████████████| 1713/1713 [00:08<00:00, 203.59it/s]\n",
      "Saving vectors of label - 'bird': 100%|███████████████████████████████████████████| 1731/1731 [00:08<00:00, 199.32it/s]\n",
      "Saving vectors of label - 'cat': 100%|████████████████████████████████████████████| 1733/1733 [00:08<00:00, 202.55it/s]\n",
      "Saving vectors of label - 'dog': 100%|████████████████████████████████████████████| 1746/1746 [00:08<00:00, 207.26it/s]\n",
      "Saving vectors of label - 'down': 100%|███████████████████████████████████████████| 2359/2359 [00:11<00:00, 200.45it/s]\n",
      "Saving vectors of label - 'eight': 100%|██████████████████████████████████████████| 2352/2352 [00:11<00:00, 204.20it/s]\n",
      "Saving vectors of label - 'five': 100%|███████████████████████████████████████████| 2357/2357 [00:11<00:00, 206.48it/s]\n",
      "Saving vectors of label - 'four': 100%|███████████████████████████████████████████| 2372/2372 [00:11<00:00, 203.13it/s]\n",
      "Saving vectors of label - 'go': 100%|█████████████████████████████████████████████| 2372/2372 [00:11<00:00, 202.83it/s]\n",
      "Saving vectors of label - 'happy': 100%|██████████████████████████████████████████| 1742/1742 [00:08<00:00, 203.50it/s]\n",
      "Saving vectors of label - 'house': 100%|██████████████████████████████████████████| 1750/1750 [00:08<00:00, 195.53it/s]\n",
      "Saving vectors of label - 'left': 100%|███████████████████████████████████████████| 2353/2353 [00:11<00:00, 204.32it/s]\n",
      "Saving vectors of label - 'marvin': 100%|█████████████████████████████████████████| 1746/1746 [00:08<00:00, 208.81it/s]\n",
      "Saving vectors of label - 'nine': 100%|███████████████████████████████████████████| 2364/2364 [00:11<00:00, 202.62it/s]\n",
      "Saving vectors of label - 'no': 100%|█████████████████████████████████████████████| 2375/2375 [00:11<00:00, 199.65it/s]\n",
      "Saving vectors of label - 'off': 100%|████████████████████████████████████████████| 2357/2357 [00:11<00:00, 203.91it/s]\n",
      "Saving vectors of label - 'on': 100%|█████████████████████████████████████████████| 2367/2367 [00:11<00:00, 201.80it/s]\n",
      "Saving vectors of label - 'one': 100%|████████████████████████████████████████████| 2370/2370 [00:11<00:00, 204.83it/s]\n",
      "Saving vectors of label - 'right': 100%|██████████████████████████████████████████| 2367/2367 [00:11<00:00, 204.78it/s]\n",
      "Saving vectors of label - 'seven': 100%|██████████████████████████████████████████| 2377/2377 [00:12<00:00, 195.57it/s]\n",
      "Saving vectors of label - 'sheila': 100%|█████████████████████████████████████████| 1734/1734 [00:08<00:00, 200.67it/s]\n",
      "Saving vectors of label - 'six': 100%|████████████████████████████████████████████| 2369/2369 [00:11<00:00, 201.80it/s]\n",
      "Saving vectors of label - 'stop': 100%|███████████████████████████████████████████| 2380/2380 [00:11<00:00, 199.68it/s]\n",
      "Saving vectors of label - 'three': 100%|██████████████████████████████████████████| 2356/2356 [00:11<00:00, 203.53it/s]\n",
      "Saving vectors of label - 'tree': 100%|███████████████████████████████████████████| 1733/1733 [00:08<00:00, 192.99it/s]\n",
      "Saving vectors of label - 'two': 100%|████████████████████████████████████████████| 2373/2373 [00:11<00:00, 201.27it/s]\n",
      "Saving vectors of label - 'up': 100%|█████████████████████████████████████████████| 2375/2375 [00:11<00:00, 201.55it/s]\n",
      "Saving vectors of label - 'wow': 100%|████████████████████████████████████████████| 1745/1745 [00:08<00:00, 202.35it/s]\n",
      "Saving vectors of label - 'yes': 100%|████████████████████████████████████████████| 2377/2377 [00:11<00:00, 199.48it/s]\n",
      "Saving vectors of label - 'zero': 100%|███████████████████████████████████████████| 2376/2376 [00:11<00:00, 201.70it/s]\n"
     ]
    }
   ],
   "source": [
    "# Save data to array files\n",
    "feature_dim_2 = 11\n",
    "save_data_to_array(max_len=feature_dim_2)"
   ]
  },
  {
   "cell_type": "code",
   "execution_count": null,
   "metadata": {
    "collapsed": true
   },
   "outputs": [],
   "source": []
  }
 ],
 "metadata": {
  "anaconda-cloud": {},
  "kernelspec": {
   "display_name": "Python 3",
   "language": "python",
   "name": "python3"
  },
  "language_info": {
   "codemirror_mode": {
    "name": "ipython",
    "version": 3
   },
   "file_extension": ".py",
   "mimetype": "text/x-python",
   "name": "python",
   "nbconvert_exporter": "python",
   "pygments_lexer": "ipython3",
   "version": "3.6.5"
  }
 },
 "nbformat": 4,
 "nbformat_minor": 2
}
