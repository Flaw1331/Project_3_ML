{
 "cells": [
  {
   "cell_type": "code",
   "execution_count": 2,
   "metadata": {},
   "outputs": [],
   "source": [
    "import librosa\n",
    "import os as os\n",
    "from scipy.misc import comb\n",
    "from sklearn.model_selection import train_test_split\n",
    "from keras.utils import to_categorical\n",
    "import numpy as np\n",
    "from tqdm import tqdm"
   ]
  },
  {
   "cell_type": "code",
   "execution_count": 3,
   "metadata": {
    "collapsed": true
   },
   "outputs": [],
   "source": [
    "DATA_PATH = \"./large_files/audio/\"  \n",
    "\n",
    "\n",
    "# Input: Folder Path\n",
    "# Output: Tuple (Label, Indices of the labels, one-hot encoded labels)\n",
    "def get_labels(path=DATA_PATH):\n",
    "    labels = os.listdir(path)\n",
    "    label_indices = np.arange(0, len(labels))\n",
    "    return labels, label_indices, to_categorical(label_indices)\n",
    "\n",
    "\n",
    "# Handy function to convert wav2mfcc\n",
    "def wav2mfcc(file_path, max_len=11):\n",
    "    wave, sr = librosa.load(file_path, mono=True, sr=None)\n",
    "    wave = wave[::3]\n",
    "    mfcc = librosa.feature.mfcc(wave, sr=16000)\n",
    "\n",
    "    # If maximum length exceeds mfcc lengths then pad the remaining ones\n",
    "    if (max_len > mfcc.shape[1]):\n",
    "        pad_width = max_len - mfcc.shape[1]\n",
    "        mfcc = np.pad(mfcc, pad_width=((0, 0), (0, pad_width)), mode='constant')\n",
    "\n",
    "    # Else cutoff the remaining parts\n",
    "    else:\n",
    "        mfcc = mfcc[:, :max_len]\n",
    "    return mfcc\n",
    "\n",
    "\n",
    "def save_data_to_array(path=DATA_PATH, max_len=11):\n",
    "    labels, _, _ = get_labels(path)\n",
    "\n",
    "    for label in labels:\n",
    "        # Init mfcc vectors\n",
    "        mfcc_vectors = []\n",
    "\n",
    "        wavfiles = [path + label + '/' + wavfile for wavfile in os.listdir(path + '/' + label)]\n",
    "        for wavfile in tqdm(wavfiles, \"Saving vectors of label - '{}'\".format(label)):\n",
    "            mfcc = wav2mfcc(wavfile, max_len=max_len)\n",
    "            mfcc_vectors.append(mfcc)\n",
    "        np.save(label + '.npy', mfcc_vectors)\n",
    "\n",
    "\n"
   ]
  },
  {
   "cell_type": "code",
   "execution_count": 4,
   "metadata": {},
   "outputs": [
    {
     "name": "stderr",
     "output_type": "stream",
     "text": [
      "Saving vectors of label - 'bed': 100%|██████████████████████████████████████████████████████████████████████| 1713/1713 [00:36<00:00, 46.72it/s]\n",
      "Saving vectors of label - 'bird': 100%|█████████████████████████████████████████████████████████████████████| 1731/1731 [00:25<00:00, 68.67it/s]\n",
      "Saving vectors of label - 'cat': 100%|██████████████████████████████████████████████████████████████████████| 1733/1733 [00:21<00:00, 80.42it/s]\n",
      "Saving vectors of label - 'dog': 100%|██████████████████████████████████████████████████████████████████████| 1746/1746 [00:20<00:00, 84.22it/s]\n",
      "Saving vectors of label - 'down': 100%|█████████████████████████████████████████████████████████████████████| 2359/2359 [00:26<00:00, 87.75it/s]\n",
      "Saving vectors of label - 'eight': 100%|████████████████████████████████████████████████████████████████████| 2352/2352 [00:26<00:00, 89.68it/s]\n",
      "Saving vectors of label - 'five': 100%|█████████████████████████████████████████████████████████████████████| 2357/2357 [00:40<00:00, 58.23it/s]\n",
      "Saving vectors of label - 'four': 100%|█████████████████████████████████████████████████████████████████████| 2372/2372 [00:30<00:00, 78.82it/s]\n",
      "Saving vectors of label - 'go': 100%|███████████████████████████████████████████████████████████████████████| 2372/2372 [00:31<00:00, 74.82it/s]\n",
      "Saving vectors of label - 'happy': 100%|████████████████████████████████████████████████████████████████████| 1742/1742 [00:19<00:00, 88.18it/s]\n",
      "Saving vectors of label - 'house': 100%|████████████████████████████████████████████████████████████████████| 1750/1750 [00:19<00:00, 89.50it/s]\n",
      "Saving vectors of label - 'left': 100%|█████████████████████████████████████████████████████████████████████| 2353/2353 [00:26<00:00, 87.91it/s]\n",
      "Saving vectors of label - 'marvin': 100%|███████████████████████████████████████████████████████████████████| 1746/1746 [00:19<00:00, 89.38it/s]\n",
      "Saving vectors of label - 'nine': 100%|█████████████████████████████████████████████████████████████████████| 2364/2364 [00:26<00:00, 88.90it/s]\n",
      "Saving vectors of label - 'no': 100%|███████████████████████████████████████████████████████████████████████| 2375/2375 [00:25<00:00, 91.37it/s]\n",
      "Saving vectors of label - 'off': 100%|██████████████████████████████████████████████████████████████████████| 2357/2357 [00:26<00:00, 88.04it/s]\n",
      "Saving vectors of label - 'on': 100%|███████████████████████████████████████████████████████████████████████| 2367/2367 [00:27<00:00, 87.25it/s]\n",
      "Saving vectors of label - 'one': 100%|██████████████████████████████████████████████████████████████████████| 2370/2370 [00:27<00:00, 84.80it/s]\n",
      "Saving vectors of label - 'right': 100%|████████████████████████████████████████████████████████████████████| 2367/2367 [00:26<00:00, 87.92it/s]\n",
      "Saving vectors of label - 'seven': 100%|████████████████████████████████████████████████████████████████████| 2377/2377 [00:26<00:00, 89.83it/s]\n",
      "Saving vectors of label - 'sheila': 100%|███████████████████████████████████████████████████████████████████| 1734/1734 [00:18<00:00, 92.14it/s]\n",
      "Saving vectors of label - 'six': 100%|██████████████████████████████████████████████████████████████████████| 2369/2369 [00:26<00:00, 89.91it/s]\n",
      "Saving vectors of label - 'stop': 100%|█████████████████████████████████████████████████████████████████████| 2380/2380 [00:26<00:00, 90.05it/s]\n",
      "Saving vectors of label - 'three': 100%|████████████████████████████████████████████████████████████████████| 2356/2356 [00:25<00:00, 91.11it/s]\n",
      "Saving vectors of label - 'tree': 100%|█████████████████████████████████████████████████████████████████████| 1733/1733 [00:18<00:00, 92.51it/s]\n",
      "Saving vectors of label - 'two': 100%|██████████████████████████████████████████████████████████████████████| 2373/2373 [00:25<00:00, 91.89it/s]\n",
      "Saving vectors of label - 'up': 100%|███████████████████████████████████████████████████████████████████████| 2375/2375 [00:25<00:00, 92.81it/s]\n",
      "Saving vectors of label - 'wow': 100%|██████████████████████████████████████████████████████████████████████| 1745/1745 [00:19<00:00, 89.94it/s]\n",
      "Saving vectors of label - 'yes': 100%|██████████████████████████████████████████████████████████████████████| 2377/2377 [00:25<00:00, 92.15it/s]\n",
      "Saving vectors of label - 'zero': 100%|█████████████████████████████████████████████████████████████████████| 2376/2376 [00:27<00:00, 85.49it/s]\n",
      "Saving vectors of label - '_background_noise_':  57%|██████████████████████████████████▊                          | 4/7 [00:00<00:00,  6.14it/s]\n"
     ]
    },
    {
     "ename": "NoBackendError",
     "evalue": "",
     "output_type": "error",
     "traceback": [
      "\u001b[1;31m---------------------------------------------------------------------------\u001b[0m",
      "\u001b[1;31mNoBackendError\u001b[0m                            Traceback (most recent call last)",
      "\u001b[1;32m<ipython-input-4-ce0f84d0f572>\u001b[0m in \u001b[0;36m<module>\u001b[1;34m()\u001b[0m\n\u001b[0;32m      1\u001b[0m \u001b[1;31m# Save data to array files\u001b[0m\u001b[1;33m\u001b[0m\u001b[1;33m\u001b[0m\u001b[0m\n\u001b[0;32m      2\u001b[0m \u001b[0mfeature_dim_2\u001b[0m \u001b[1;33m=\u001b[0m \u001b[1;36m11\u001b[0m\u001b[1;33m\u001b[0m\u001b[0m\n\u001b[1;32m----> 3\u001b[1;33m \u001b[0msave_data_to_array\u001b[0m\u001b[1;33m(\u001b[0m\u001b[0mmax_len\u001b[0m\u001b[1;33m=\u001b[0m\u001b[0mfeature_dim_2\u001b[0m\u001b[1;33m)\u001b[0m\u001b[1;33m\u001b[0m\u001b[0m\n\u001b[0m",
      "\u001b[1;32m<ipython-input-3-3b343690e66f>\u001b[0m in \u001b[0;36msave_data_to_array\u001b[1;34m(path, max_len)\u001b[0m\n\u001b[0;32m     36\u001b[0m         \u001b[0mwavfiles\u001b[0m \u001b[1;33m=\u001b[0m \u001b[1;33m[\u001b[0m\u001b[0mpath\u001b[0m \u001b[1;33m+\u001b[0m \u001b[0mlabel\u001b[0m \u001b[1;33m+\u001b[0m \u001b[1;34m'/'\u001b[0m \u001b[1;33m+\u001b[0m \u001b[0mwavfile\u001b[0m \u001b[1;32mfor\u001b[0m \u001b[0mwavfile\u001b[0m \u001b[1;32min\u001b[0m \u001b[0mos\u001b[0m\u001b[1;33m.\u001b[0m\u001b[0mlistdir\u001b[0m\u001b[1;33m(\u001b[0m\u001b[0mpath\u001b[0m \u001b[1;33m+\u001b[0m \u001b[1;34m'/'\u001b[0m \u001b[1;33m+\u001b[0m \u001b[0mlabel\u001b[0m\u001b[1;33m)\u001b[0m\u001b[1;33m]\u001b[0m\u001b[1;33m\u001b[0m\u001b[0m\n\u001b[0;32m     37\u001b[0m         \u001b[1;32mfor\u001b[0m \u001b[0mwavfile\u001b[0m \u001b[1;32min\u001b[0m \u001b[0mtqdm\u001b[0m\u001b[1;33m(\u001b[0m\u001b[0mwavfiles\u001b[0m\u001b[1;33m,\u001b[0m \u001b[1;34m\"Saving vectors of label - '{}'\"\u001b[0m\u001b[1;33m.\u001b[0m\u001b[0mformat\u001b[0m\u001b[1;33m(\u001b[0m\u001b[0mlabel\u001b[0m\u001b[1;33m)\u001b[0m\u001b[1;33m)\u001b[0m\u001b[1;33m:\u001b[0m\u001b[1;33m\u001b[0m\u001b[0m\n\u001b[1;32m---> 38\u001b[1;33m             \u001b[0mmfcc\u001b[0m \u001b[1;33m=\u001b[0m \u001b[0mwav2mfcc\u001b[0m\u001b[1;33m(\u001b[0m\u001b[0mwavfile\u001b[0m\u001b[1;33m,\u001b[0m \u001b[0mmax_len\u001b[0m\u001b[1;33m=\u001b[0m\u001b[0mmax_len\u001b[0m\u001b[1;33m)\u001b[0m\u001b[1;33m\u001b[0m\u001b[0m\n\u001b[0m\u001b[0;32m     39\u001b[0m             \u001b[0mmfcc_vectors\u001b[0m\u001b[1;33m.\u001b[0m\u001b[0mappend\u001b[0m\u001b[1;33m(\u001b[0m\u001b[0mmfcc\u001b[0m\u001b[1;33m)\u001b[0m\u001b[1;33m\u001b[0m\u001b[0m\n\u001b[0;32m     40\u001b[0m         \u001b[0mnp\u001b[0m\u001b[1;33m.\u001b[0m\u001b[0msave\u001b[0m\u001b[1;33m(\u001b[0m\u001b[0mlabel\u001b[0m \u001b[1;33m+\u001b[0m \u001b[1;34m'.npy'\u001b[0m\u001b[1;33m,\u001b[0m \u001b[0mmfcc_vectors\u001b[0m\u001b[1;33m)\u001b[0m\u001b[1;33m\u001b[0m\u001b[0m\n",
      "\u001b[1;32m<ipython-input-3-3b343690e66f>\u001b[0m in \u001b[0;36mwav2mfcc\u001b[1;34m(file_path, max_len)\u001b[0m\n\u001b[0;32m     12\u001b[0m \u001b[1;31m# Handy function to convert wav2mfcc\u001b[0m\u001b[1;33m\u001b[0m\u001b[1;33m\u001b[0m\u001b[0m\n\u001b[0;32m     13\u001b[0m \u001b[1;32mdef\u001b[0m \u001b[0mwav2mfcc\u001b[0m\u001b[1;33m(\u001b[0m\u001b[0mfile_path\u001b[0m\u001b[1;33m,\u001b[0m \u001b[0mmax_len\u001b[0m\u001b[1;33m=\u001b[0m\u001b[1;36m11\u001b[0m\u001b[1;33m)\u001b[0m\u001b[1;33m:\u001b[0m\u001b[1;33m\u001b[0m\u001b[0m\n\u001b[1;32m---> 14\u001b[1;33m     \u001b[0mwave\u001b[0m\u001b[1;33m,\u001b[0m \u001b[0msr\u001b[0m \u001b[1;33m=\u001b[0m \u001b[0mlibrosa\u001b[0m\u001b[1;33m.\u001b[0m\u001b[0mload\u001b[0m\u001b[1;33m(\u001b[0m\u001b[0mfile_path\u001b[0m\u001b[1;33m,\u001b[0m \u001b[0mmono\u001b[0m\u001b[1;33m=\u001b[0m\u001b[1;32mTrue\u001b[0m\u001b[1;33m,\u001b[0m \u001b[0msr\u001b[0m\u001b[1;33m=\u001b[0m\u001b[1;32mNone\u001b[0m\u001b[1;33m)\u001b[0m\u001b[1;33m\u001b[0m\u001b[0m\n\u001b[0m\u001b[0;32m     15\u001b[0m     \u001b[0mwave\u001b[0m \u001b[1;33m=\u001b[0m \u001b[0mwave\u001b[0m\u001b[1;33m[\u001b[0m\u001b[1;33m:\u001b[0m\u001b[1;33m:\u001b[0m\u001b[1;36m3\u001b[0m\u001b[1;33m]\u001b[0m\u001b[1;33m\u001b[0m\u001b[0m\n\u001b[0;32m     16\u001b[0m     \u001b[0mmfcc\u001b[0m \u001b[1;33m=\u001b[0m \u001b[0mlibrosa\u001b[0m\u001b[1;33m.\u001b[0m\u001b[0mfeature\u001b[0m\u001b[1;33m.\u001b[0m\u001b[0mmfcc\u001b[0m\u001b[1;33m(\u001b[0m\u001b[0mwave\u001b[0m\u001b[1;33m,\u001b[0m \u001b[0msr\u001b[0m\u001b[1;33m=\u001b[0m\u001b[1;36m16000\u001b[0m\u001b[1;33m)\u001b[0m\u001b[1;33m\u001b[0m\u001b[0m\n",
      "\u001b[1;32mC:\\ProgramData\\Anaconda3\\lib\\site-packages\\librosa\\core\\audio.py\u001b[0m in \u001b[0;36mload\u001b[1;34m(path, sr, mono, offset, duration, dtype, res_type)\u001b[0m\n\u001b[0;32m    110\u001b[0m \u001b[1;33m\u001b[0m\u001b[0m\n\u001b[0;32m    111\u001b[0m     \u001b[0my\u001b[0m \u001b[1;33m=\u001b[0m \u001b[1;33m[\u001b[0m\u001b[1;33m]\u001b[0m\u001b[1;33m\u001b[0m\u001b[0m\n\u001b[1;32m--> 112\u001b[1;33m     \u001b[1;32mwith\u001b[0m \u001b[0maudioread\u001b[0m\u001b[1;33m.\u001b[0m\u001b[0maudio_open\u001b[0m\u001b[1;33m(\u001b[0m\u001b[0mos\u001b[0m\u001b[1;33m.\u001b[0m\u001b[0mpath\u001b[0m\u001b[1;33m.\u001b[0m\u001b[0mrealpath\u001b[0m\u001b[1;33m(\u001b[0m\u001b[0mpath\u001b[0m\u001b[1;33m)\u001b[0m\u001b[1;33m)\u001b[0m \u001b[1;32mas\u001b[0m \u001b[0minput_file\u001b[0m\u001b[1;33m:\u001b[0m\u001b[1;33m\u001b[0m\u001b[0m\n\u001b[0m\u001b[0;32m    113\u001b[0m         \u001b[0msr_native\u001b[0m \u001b[1;33m=\u001b[0m \u001b[0minput_file\u001b[0m\u001b[1;33m.\u001b[0m\u001b[0msamplerate\u001b[0m\u001b[1;33m\u001b[0m\u001b[0m\n\u001b[0;32m    114\u001b[0m         \u001b[0mn_channels\u001b[0m \u001b[1;33m=\u001b[0m \u001b[0minput_file\u001b[0m\u001b[1;33m.\u001b[0m\u001b[0mchannels\u001b[0m\u001b[1;33m\u001b[0m\u001b[0m\n",
      "\u001b[1;32mC:\\ProgramData\\Anaconda3\\lib\\site-packages\\audioread\\__init__.py\u001b[0m in \u001b[0;36maudio_open\u001b[1;34m(path)\u001b[0m\n\u001b[0;32m    114\u001b[0m \u001b[1;33m\u001b[0m\u001b[0m\n\u001b[0;32m    115\u001b[0m     \u001b[1;31m# All backends failed!\u001b[0m\u001b[1;33m\u001b[0m\u001b[1;33m\u001b[0m\u001b[0m\n\u001b[1;32m--> 116\u001b[1;33m     \u001b[1;32mraise\u001b[0m \u001b[0mNoBackendError\u001b[0m\u001b[1;33m(\u001b[0m\u001b[1;33m)\u001b[0m\u001b[1;33m\u001b[0m\u001b[0m\n\u001b[0m",
      "\u001b[1;31mNoBackendError\u001b[0m: "
     ]
    }
   ],
   "source": [
    "# Save data to array files\n",
    "feature_dim_2 = 11\n",
    "save_data_to_array(max_len=feature_dim_2)"
   ]
  },
  {
   "cell_type": "code",
   "execution_count": null,
   "metadata": {
    "collapsed": true
   },
   "outputs": [],
   "source": []
  }
 ],
 "metadata": {
  "anaconda-cloud": {},
  "kernelspec": {
   "display_name": "Python 3",
   "language": "python",
   "name": "python3"
  }
 },
 "nbformat": 4,
 "nbformat_minor": 2
}
