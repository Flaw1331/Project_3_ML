{
 "cells": [
  {
   "cell_type": "code",
   "execution_count": 1,
   "metadata": {},
   "outputs": [
    {
     "name": "stderr",
     "output_type": "stream",
     "text": [
      "C:\\ProgramData\\Anaconda3\\lib\\site-packages\\h5py\\__init__.py:34: FutureWarning: Conversion of the second argument of issubdtype from `float` to `np.floating` is deprecated. In future, it will be treated as `np.float64 == np.dtype(float).type`.\n",
      "  from ._conv import register_converters as _register_converters\n",
      "Using TensorFlow backend.\n"
     ]
    }
   ],
   "source": [
    "import librosa\n",
    "import os as os\n",
    "from sklearn.model_selection import train_test_split\n",
    "from keras.utils import to_categorical\n",
    "import numpy as np\n",
    "from tqdm import tqdm"
   ]
  },
  {
   "cell_type": "code",
   "execution_count": 2,
   "metadata": {
    "collapsed": true
   },
   "outputs": [],
   "source": [
    "DATA_PATH = \"./data/\"\n",
    "\n",
    "\n",
    "# Input: Folder Path\n",
    "# Output: Tuple (Label, Indices of the labels, one-hot encoded labels)\n",
    "def get_labels(path=DATA_PATH):\n",
    "    labels = os.listdir(path)\n",
    "    label_indices = np.arange(0, len(labels))\n",
    "    return labels, label_indices, to_categorical(label_indices)\n",
    "\n",
    "\n",
    "# Handy function to convert wav2mfcc\n",
    "def wav2mfcc(file_path, max_len=11):\n",
    "    wave, sr = librosa.load(file_path, mono=True, sr=None)\n",
    "    wave = wave[::3]\n",
    "    mfcc = librosa.feature.mfcc(wave, sr=16000)\n",
    "\n",
    "    # If maximum length exceeds mfcc lengths then pad the remaining ones\n",
    "    if (max_len > mfcc.shape[1]):\n",
    "        pad_width = max_len - mfcc.shape[1]\n",
    "        mfcc = np.pad(mfcc, pad_width=((0, 0), (0, pad_width)), mode='constant')\n",
    "\n",
    "    # Else cutoff the remaining parts\n",
    "    else:\n",
    "        mfcc = mfcc[:, :max_len]\n",
    "    return mfcc\n",
    "\n",
    "\n",
    "def save_data_to_array(path=DATA_PATH, max_len=11):\n",
    "    labels, _, _ = get_labels(path)\n",
    "\n",
    "    for label in labels:\n",
    "        # Init mfcc vectors\n",
    "        mfcc_vectors = []\n",
    "\n",
    "        wavfiles = [path + label + '/' + wavfile for wavfile in os.listdir(path + '/' + label)]\n",
    "        for wavfile in tqdm(wavfiles, \"Saving vectors of label - '{}'\".format(label)):\n",
    "            mfcc = wav2mfcc(wavfile, max_len=max_len)\n",
    "            mfcc_vectors.append(mfcc)\n",
    "        np.save(label + '.npy', mfcc_vectors)\n",
    "\n",
    "\n",
    "def get_train_test(split_ratio=0.6, random_state=42):\n",
    "    # Get available labels\n",
    "    labels, indices, _ = get_labels(DATA_PATH)\n",
    "\n",
    "    # Getting first arrays\n",
    "    X = np.load(labels[0] + '.npy')\n",
    "    y = np.zeros(X.shape[0])\n",
    "\n",
    "    # Append all of the dataset into one single array, same goes for y\n",
    "    for i, label in enumerate(labels[1:]):\n",
    "        x = np.load(label + '.npy')\n",
    "        X = np.vstack((X, x))\n",
    "        y = np.append(y, np.full(x.shape[0], fill_value= (i + 1)))\n",
    "\n",
    "    assert X.shape[0] == len(y)\n",
    "\n",
    "    return train_test_split(X, y, test_size= (1 - split_ratio), random_state=random_state, shuffle=True)\n",
    "\n",
    "\n",
    "\n",
    "def prepare_dataset(path=DATA_PATH):\n",
    "    labels, _, _ = get_labels(path)\n",
    "    data = {}\n",
    "    for label in labels:\n",
    "        data[label] = {}\n",
    "        data[label]['path'] = [path  + label + '/' + wavfile for wavfile in os.listdir(path + '/' + label)]\n",
    "\n",
    "        vectors = []\n",
    "\n",
    "        for wavfile in data[label]['path']:\n",
    "            wave, sr = librosa.load(wavfile, mono=True, sr=None)\n",
    "            # Downsampling\n",
    "            wave = wave[::3]\n",
    "            mfcc = librosa.feature.mfcc(wave, sr=16000)\n",
    "            vectors.append(mfcc)\n",
    "\n",
    "        data[label]['mfcc'] = vectors\n",
    "\n",
    "    return data\n",
    "\n",
    "\n",
    "def load_dataset(path=DATA_PATH):\n",
    "    data = prepare_dataset(path)\n",
    "\n",
    "    dataset = []\n",
    "\n",
    "    for key in data:\n",
    "        for mfcc in data[key]['mfcc']:\n",
    "            dataset.append((key, mfcc))\n",
    "\n",
    "    return dataset[:100]"
   ]
  },
  {
   "cell_type": "code",
   "execution_count": 3,
   "metadata": {},
   "outputs": [
    {
     "name": "stdout",
     "output_type": "stream",
     "text": [
      "get_train_test\n",
      "prepare_dataset\n",
      "load_dataset\n"
     ]
    }
   ],
   "source": [
    "get_train_test()\n",
    "print('get_train_test')\n",
    "prepare_dataset()\n",
    "print('prepare_dataset')\n",
    "load_dataset\n",
    "print('load_dataset')"
   ]
  },
  {
   "cell_type": "code",
   "execution_count": 4,
   "metadata": {},
   "outputs": [
    {
     "name": "stderr",
     "output_type": "stream",
     "text": [
      "Saving vectors of label - 'cat': 100%|█████████████████████████████████████████████████████████████████████| 1733/1733 [00:10<00:00, 170.57it/s]\n",
      "Saving vectors of label - 'dog': 100%|█████████████████████████████████████████████████████████████████████| 1746/1746 [00:09<00:00, 181.60it/s]\n"
     ]
    }
   ],
   "source": [
    "%load_ext autoreload\n",
    "%autoreload 2\n",
    "\n",
    "\n",
    "import keras\n",
    "from keras.models import Sequential\n",
    "from keras.layers import Dense, Dropout, Flatten, Conv2D, MaxPooling2D\n",
    "from keras.utils import to_categorical\n",
    "\n",
    "# Second dimension of the feature is dim2\n",
    "feature_dim_2 = 11\n",
    "\n",
    "# Save data to array file first\n",
    "save_data_to_array(max_len=feature_dim_2)\n",
    "\n",
    "# # Loading train set and test set\n",
    "X_train, X_test, y_train, y_test = get_train_test()\n",
    "\n",
    "# # Feature dimension\n",
    "feature_dim_1 = 20\n",
    "channel = 1\n",
    "epochs = 50\n",
    "batch_size = 100\n",
    "verbose = 1\n",
    "num_classes = 2\n",
    "\n",
    "# Reshaping to perform 2D convolution\n",
    "X_train = X_train.reshape(X_train.shape[0], feature_dim_1, feature_dim_2, channel)\n",
    "X_test = X_test.reshape(X_test.shape[0], feature_dim_1, feature_dim_2, channel)\n",
    "\n",
    "y_train_hot = to_categorical(y_train)\n",
    "y_test_hot = to_categorical(y_test)"
   ]
  },
  {
   "cell_type": "code",
   "execution_count": 5,
   "metadata": {
    "collapsed": true
   },
   "outputs": [],
   "source": [
    "def get_model():\n",
    "    model = Sequential()\n",
    "    model.add(Conv2D(32, kernel_size=(2, 2), activation='relu', input_shape=(feature_dim_1, feature_dim_2, channel)))\n",
    "    model.add(Conv2D(48, kernel_size=(2, 2), activation='relu'))\n",
    "    model.add(Conv2D(120, kernel_size=(2, 2), activation='relu'))\n",
    "    model.add(MaxPooling2D(pool_size=(2, 2)))\n",
    "    model.add(Dropout(0.25))\n",
    "    model.add(Flatten())\n",
    "    model.add(Dense(128, activation='relu'))\n",
    "    model.add(Dropout(0.25))\n",
    "    model.add(Dense(64, activation='relu'))\n",
    "    model.add(Dropout(0.4))\n",
    "    model.add(Dense(num_classes, activation='softmax'))\n",
    "    model.compile(loss=keras.losses.categorical_crossentropy,\n",
    "                  optimizer=keras.optimizers.Adadelta(),\n",
    "                  metrics=['accuracy'])\n",
    "    return model\n",
    "\n",
    "# Predicts one sample\n",
    "def predict(filepath, model):\n",
    "    sample = wav2mfcc(filepath)\n",
    "    sample_reshaped = sample.reshape(1, feature_dim_1, feature_dim_2, channel)\n",
    "    return get_labels()[0][\n",
    "            np.argmax(model.predict(sample_reshaped))\n",
    "    ]"
   ]
  },
  {
   "cell_type": "code",
   "execution_count": 6,
   "metadata": {},
   "outputs": [
    {
     "name": "stdout",
     "output_type": "stream",
     "text": [
      "Epoch 1/50\n",
      "2087/2087 [==============================] - ETA: 1:12 - loss: 3.3642 - acc: 0.530 - ETA: 35s - loss: 4.7143 - acc: 0.535 - ETA: 23s - loss: 3.8761 - acc: 0.55 - ETA: 17s - loss: 4.0298 - acc: 0.52 - ETA: 13s - loss: 3.5926 - acc: 0.53 - ETA: 10s - loss: 3.2263 - acc: 0.52 - ETA: 8s - loss: 2.9025 - acc: 0.5429 - ETA: 7s - loss: 2.6516 - acc: 0.550 - ETA: 6s - loss: 2.4587 - acc: 0.553 - ETA: 5s - loss: 2.2850 - acc: 0.563 - ETA: 4s - loss: 2.1395 - acc: 0.575 - ETA: 3s - loss: 2.0314 - acc: 0.576 - ETA: 3s - loss: 1.9253 - acc: 0.576 - ETA: 2s - loss: 1.8319 - acc: 0.584 - ETA: 2s - loss: 1.7458 - acc: 0.594 - ETA: 1s - loss: 1.6745 - acc: 0.601 - ETA: 1s - loss: 1.6113 - acc: 0.607 - ETA: 0s - loss: 1.5534 - acc: 0.614 - ETA: 0s - loss: 1.5007 - acc: 0.619 - ETA: 0s - loss: 1.4536 - acc: 0.624 - 6s 3ms/step - loss: 1.4156 - acc: 0.6301\n",
      "Epoch 2/50\n",
      "2087/2087 [==============================] - ETA: 2s - loss: 0.5213 - acc: 0.750 - ETA: 2s - loss: 0.4888 - acc: 0.765 - ETA: 2s - loss: 0.4596 - acc: 0.780 - ETA: 2s - loss: 0.4864 - acc: 0.762 - ETA: 2s - loss: 0.4791 - acc: 0.768 - ETA: 1s - loss: 0.4750 - acc: 0.770 - ETA: 1s - loss: 0.4915 - acc: 0.765 - ETA: 1s - loss: 0.5037 - acc: 0.757 - ETA: 1s - loss: 0.5036 - acc: 0.762 - ETA: 1s - loss: 0.4982 - acc: 0.764 - ETA: 1s - loss: 0.4865 - acc: 0.768 - ETA: 1s - loss: 0.4795 - acc: 0.771 - ETA: 1s - loss: 0.4789 - acc: 0.773 - ETA: 0s - loss: 0.4758 - acc: 0.775 - ETA: 0s - loss: 0.4633 - acc: 0.782 - ETA: 0s - loss: 0.4642 - acc: 0.783 - ETA: 0s - loss: 0.4620 - acc: 0.785 - ETA: 0s - loss: 0.4599 - acc: 0.787 - ETA: 0s - loss: 0.4564 - acc: 0.788 - ETA: 0s - loss: 0.4507 - acc: 0.792 - 3s 1ms/step - loss: 0.4452 - acc: 0.7954\n",
      "Epoch 3/50\n",
      "2087/2087 [==============================] - ETA: 2s - loss: 0.3481 - acc: 0.860 - ETA: 2s - loss: 0.3856 - acc: 0.860 - ETA: 2s - loss: 0.3518 - acc: 0.870 - ETA: 2s - loss: 0.3622 - acc: 0.862 - ETA: 2s - loss: 0.3364 - acc: 0.872 - ETA: 1s - loss: 0.3343 - acc: 0.873 - ETA: 1s - loss: 0.3303 - acc: 0.875 - ETA: 1s - loss: 0.3230 - acc: 0.876 - ETA: 1s - loss: 0.3265 - acc: 0.875 - ETA: 1s - loss: 0.3296 - acc: 0.873 - ETA: 1s - loss: 0.3371 - acc: 0.866 - ETA: 1s - loss: 0.3508 - acc: 0.855 - ETA: 1s - loss: 0.3532 - acc: 0.853 - ETA: 0s - loss: 0.3535 - acc: 0.852 - ETA: 0s - loss: 0.3470 - acc: 0.856 - ETA: 0s - loss: 0.3415 - acc: 0.856 - ETA: 0s - loss: 0.3407 - acc: 0.857 - ETA: 0s - loss: 0.3369 - acc: 0.858 - ETA: 0s - loss: 0.3449 - acc: 0.857 - ETA: 0s - loss: 0.3436 - acc: 0.858 - 3s 1ms/step - loss: 0.3411 - acc: 0.8591\n",
      "Epoch 4/50\n",
      "2087/2087 [==============================] - ETA: 2s - loss: 0.2800 - acc: 0.870 - ETA: 2s - loss: 0.2542 - acc: 0.885 - ETA: 2s - loss: 0.2752 - acc: 0.886 - ETA: 2s - loss: 0.2855 - acc: 0.885 - ETA: 2s - loss: 0.3000 - acc: 0.880 - ETA: 1s - loss: 0.2997 - acc: 0.880 - ETA: 1s - loss: 0.2945 - acc: 0.881 - ETA: 1s - loss: 0.2813 - acc: 0.887 - ETA: 1s - loss: 0.2848 - acc: 0.887 - ETA: 1s - loss: 0.2854 - acc: 0.885 - ETA: 1s - loss: 0.2898 - acc: 0.882 - ETA: 1s - loss: 0.2898 - acc: 0.880 - ETA: 1s - loss: 0.2836 - acc: 0.883 - ETA: 0s - loss: 0.2798 - acc: 0.886 - ETA: 0s - loss: 0.2755 - acc: 0.888 - ETA: 0s - loss: 0.2749 - acc: 0.887 - ETA: 0s - loss: 0.2727 - acc: 0.889 - ETA: 0s - loss: 0.2717 - acc: 0.891 - ETA: 0s - loss: 0.2661 - acc: 0.894 - ETA: 0s - loss: 0.2609 - acc: 0.897 - 3s 1ms/step - loss: 0.2651 - acc: 0.8946\n",
      "Epoch 5/50\n",
      "2087/2087 [==============================] - ETA: 2s - loss: 0.4671 - acc: 0.820 - ETA: 2s - loss: 0.4201 - acc: 0.825 - ETA: 2s - loss: 0.3509 - acc: 0.853 - ETA: 2s - loss: 0.3077 - acc: 0.875 - ETA: 2s - loss: 0.2835 - acc: 0.886 - ETA: 2s - loss: 0.2638 - acc: 0.895 - ETA: 1s - loss: 0.2507 - acc: 0.902 - ETA: 1s - loss: 0.2454 - acc: 0.905 - ETA: 1s - loss: 0.2502 - acc: 0.904 - ETA: 1s - loss: 0.2377 - acc: 0.910 - ETA: 1s - loss: 0.2398 - acc: 0.906 - ETA: 1s - loss: 0.2344 - acc: 0.907 - ETA: 1s - loss: 0.2269 - acc: 0.910 - ETA: 0s - loss: 0.2366 - acc: 0.906 - ETA: 0s - loss: 0.2427 - acc: 0.904 - ETA: 0s - loss: 0.2470 - acc: 0.902 - ETA: 0s - loss: 0.2498 - acc: 0.901 - ETA: 0s - loss: 0.2466 - acc: 0.902 - ETA: 0s - loss: 0.2427 - acc: 0.903 - ETA: 0s - loss: 0.2474 - acc: 0.903 - 3s 1ms/step - loss: 0.2459 - acc: 0.9037\n",
      "Epoch 6/50\n",
      "2087/2087 [==============================] - ETA: 2s - loss: 0.2353 - acc: 0.910 - ETA: 2s - loss: 0.2401 - acc: 0.925 - ETA: 2s - loss: 0.2183 - acc: 0.923 - ETA: 2s - loss: 0.2087 - acc: 0.927 - ETA: 2s - loss: 0.2137 - acc: 0.924 - ETA: 1s - loss: 0.2022 - acc: 0.928 - ETA: 1s - loss: 0.1871 - acc: 0.931 - ETA: 1s - loss: 0.1781 - acc: 0.935 - ETA: 1s - loss: 0.1900 - acc: 0.934 - ETA: 1s - loss: 0.1913 - acc: 0.934 - ETA: 1s - loss: 0.1853 - acc: 0.935 - ETA: 1s - loss: 0.1791 - acc: 0.937 - ETA: 1s - loss: 0.1854 - acc: 0.935 - ETA: 0s - loss: 0.1841 - acc: 0.934 - ETA: 0s - loss: 0.1880 - acc: 0.932 - ETA: 0s - loss: 0.1888 - acc: 0.931 - ETA: 0s - loss: 0.1919 - acc: 0.930 - ETA: 0s - loss: 0.1910 - acc: 0.929 - ETA: 0s - loss: 0.1873 - acc: 0.931 - ETA: 0s - loss: 0.1892 - acc: 0.930 - 3s 1ms/step - loss: 0.1914 - acc: 0.9305\n",
      "Epoch 7/50\n",
      "2087/2087 [==============================] - ETA: 2s - loss: 0.1180 - acc: 0.950 - ETA: 2s - loss: 0.1348 - acc: 0.940 - ETA: 2s - loss: 0.1245 - acc: 0.950 - ETA: 2s - loss: 0.1155 - acc: 0.957 - ETA: 2s - loss: 0.1196 - acc: 0.954 - ETA: 1s - loss: 0.1312 - acc: 0.950 - ETA: 1s - loss: 0.1332 - acc: 0.951 - ETA: 1s - loss: 0.1379 - acc: 0.951 - ETA: 1s - loss: 0.1482 - acc: 0.941 - ETA: 1s - loss: 0.1510 - acc: 0.939 - ETA: 1s - loss: 0.1525 - acc: 0.939 - ETA: 1s - loss: 0.1585 - acc: 0.940 - ETA: 1s - loss: 0.1587 - acc: 0.940 - ETA: 0s - loss: 0.1574 - acc: 0.941 - ETA: 0s - loss: 0.1641 - acc: 0.940 - ETA: 0s - loss: 0.1619 - acc: 0.941 - ETA: 0s - loss: 0.1606 - acc: 0.941 - ETA: 0s - loss: 0.1600 - acc: 0.941 - ETA: 0s - loss: 0.1601 - acc: 0.941 - ETA: 0s - loss: 0.1616 - acc: 0.941 - 3s 1ms/step - loss: 0.1581 - acc: 0.9420\n",
      "Epoch 8/50\n",
      "2087/2087 [==============================] - ETA: 2s - loss: 0.0991 - acc: 0.960 - ETA: 2s - loss: 0.1200 - acc: 0.960 - ETA: 2s - loss: 0.1043 - acc: 0.963 - ETA: 2s - loss: 0.0989 - acc: 0.967 - ETA: 2s - loss: 0.1032 - acc: 0.966 - ETA: 2s - loss: 0.1256 - acc: 0.958 - ETA: 1s - loss: 0.1311 - acc: 0.955 - ETA: 1s - loss: 0.1353 - acc: 0.950 - ETA: 1s - loss: 0.1310 - acc: 0.950 - ETA: 1s - loss: 0.1367 - acc: 0.948 - ETA: 1s - loss: 0.1315 - acc: 0.950 - ETA: 1s - loss: 0.1293 - acc: 0.950 - ETA: 1s - loss: 0.1300 - acc: 0.950 - ETA: 0s - loss: 0.1317 - acc: 0.950 - ETA: 0s - loss: 0.1333 - acc: 0.950 - ETA: 0s - loss: 0.1323 - acc: 0.952 - ETA: 0s - loss: 0.1307 - acc: 0.952 - ETA: 0s - loss: 0.1290 - acc: 0.951 - ETA: 0s - loss: 0.1302 - acc: 0.950 - ETA: 0s - loss: 0.1433 - acc: 0.945 - 3s 1ms/step - loss: 0.1473 - acc: 0.9435\n",
      "Epoch 9/50\n",
      "2087/2087 [==============================] - ETA: 2s - loss: 0.0834 - acc: 0.980 - ETA: 2s - loss: 0.0902 - acc: 0.970 - ETA: 2s - loss: 0.1039 - acc: 0.963 - ETA: 2s - loss: 0.0919 - acc: 0.967 - ETA: 2s - loss: 0.0886 - acc: 0.970 - ETA: 1s - loss: 0.0954 - acc: 0.968 - ETA: 1s - loss: 0.1012 - acc: 0.967 - ETA: 1s - loss: 0.0979 - acc: 0.966 - ETA: 1s - loss: 0.0941 - acc: 0.966 - ETA: 1s - loss: 0.0928 - acc: 0.967 - ETA: 1s - loss: 0.0924 - acc: 0.967 - ETA: 1s - loss: 0.0940 - acc: 0.967 - ETA: 1s - loss: 0.0935 - acc: 0.968 - ETA: 0s - loss: 0.0977 - acc: 0.966 - ETA: 0s - loss: 0.1029 - acc: 0.966 - ETA: 0s - loss: 0.1037 - acc: 0.965 - ETA: 0s - loss: 0.1065 - acc: 0.964 - ETA: 0s - loss: 0.1050 - acc: 0.965 - ETA: 0s - loss: 0.1031 - acc: 0.966 - ETA: 0s - loss: 0.1057 - acc: 0.964 - 3s 1ms/step - loss: 0.1081 - acc: 0.9636\n",
      "Epoch 10/50\n",
      "2087/2087 [==============================] - ETA: 2s - loss: 0.0653 - acc: 0.980 - ETA: 2s - loss: 0.0815 - acc: 0.975 - ETA: 2s - loss: 0.0923 - acc: 0.973 - ETA: 2s - loss: 0.0971 - acc: 0.967 - ETA: 2s - loss: 0.0892 - acc: 0.968 - ETA: 2s - loss: 0.0883 - acc: 0.968 - ETA: 1s - loss: 0.0895 - acc: 0.965 - ETA: 1s - loss: 0.0909 - acc: 0.963 - ETA: 1s - loss: 0.0887 - acc: 0.964 - ETA: 1s - loss: 0.0823 - acc: 0.968 - ETA: 1s - loss: 0.0825 - acc: 0.967 - ETA: 1s - loss: 0.0834 - acc: 0.968 - ETA: 1s - loss: 0.0842 - acc: 0.967 - ETA: 0s - loss: 0.0877 - acc: 0.967 - ETA: 0s - loss: 0.0879 - acc: 0.968 - ETA: 0s - loss: 0.0899 - acc: 0.966 - ETA: 0s - loss: 0.0932 - acc: 0.965 - ETA: 0s - loss: 0.0980 - acc: 0.963 - ETA: 0s - loss: 0.1028 - acc: 0.961 - ETA: 0s - loss: 0.0999 - acc: 0.962 - 3s 1ms/step - loss: 0.0983 - acc: 0.9626\n",
      "Epoch 11/50\n",
      "2087/2087 [==============================] - ETA: 2s - loss: 0.0312 - acc: 0.980 - ETA: 2s - loss: 0.0399 - acc: 0.980 - ETA: 2s - loss: 0.0351 - acc: 0.986 - ETA: 2s - loss: 0.0478 - acc: 0.985 - ETA: 2s - loss: 0.0475 - acc: 0.986 - ETA: 1s - loss: 0.0503 - acc: 0.985 - ETA: 1s - loss: 0.0470 - acc: 0.987 - ETA: 1s - loss: 0.0528 - acc: 0.982 - ETA: 1s - loss: 0.0614 - acc: 0.981 - ETA: 1s - loss: 0.0628 - acc: 0.980 - ETA: 1s - loss: 0.0630 - acc: 0.979 - ETA: 1s - loss: 0.0674 - acc: 0.978 - ETA: 1s - loss: 0.0718 - acc: 0.976 - ETA: 0s - loss: 0.0756 - acc: 0.974 - ETA: 0s - loss: 0.0850 - acc: 0.968 - ETA: 0s - loss: 0.0855 - acc: 0.968 - ETA: 0s - loss: 0.0846 - acc: 0.968 - ETA: 0s - loss: 0.0848 - acc: 0.969 - ETA: 0s - loss: 0.0835 - acc: 0.969 - ETA: 0s - loss: 0.0806 - acc: 0.970 - 3s 1ms/step - loss: 0.0786 - acc: 0.9713\n",
      "Epoch 12/50\n",
      "2087/2087 [==============================] - ETA: 2s - loss: 0.0239 - acc: 1.000 - ETA: 2s - loss: 0.0452 - acc: 0.975 - ETA: 2s - loss: 0.0670 - acc: 0.966 - ETA: 2s - loss: 0.0725 - acc: 0.965 - ETA: 2s - loss: 0.0682 - acc: 0.968 - ETA: 2s - loss: 0.0653 - acc: 0.971 - ETA: 1s - loss: 0.0639 - acc: 0.972 - ETA: 1s - loss: 0.0648 - acc: 0.973 - ETA: 1s - loss: 0.0607 - acc: 0.975 - ETA: 1s - loss: 0.0598 - acc: 0.975 - ETA: 1s - loss: 0.0650 - acc: 0.972 - ETA: 1s - loss: 0.0634 - acc: 0.974 - ETA: 1s - loss: 0.0600 - acc: 0.976 - ETA: 0s - loss: 0.0617 - acc: 0.975 - ETA: 0s - loss: 0.0591 - acc: 0.977 - ETA: 0s - loss: 0.0608 - acc: 0.976 - ETA: 0s - loss: 0.0584 - acc: 0.977 - ETA: 0s - loss: 0.0583 - acc: 0.977 - ETA: 0s - loss: 0.0577 - acc: 0.977 - ETA: 0s - loss: 0.0563 - acc: 0.978 - 3s 1ms/step - loss: 0.0552 - acc: 0.9784\n",
      "Epoch 13/50\n",
      "2087/2087 [==============================] - ETA: 2s - loss: 0.0492 - acc: 0.990 - ETA: 2s - loss: 0.0586 - acc: 0.985 - ETA: 2s - loss: 0.0587 - acc: 0.983 - ETA: 2s - loss: 0.0532 - acc: 0.982 - ETA: 2s - loss: 0.0469 - acc: 0.986 - ETA: 1s - loss: 0.0461 - acc: 0.985 - ETA: 1s - loss: 0.0557 - acc: 0.981 - ETA: 1s - loss: 0.0596 - acc: 0.977 - ETA: 1s - loss: 0.0696 - acc: 0.972 - ETA: 1s - loss: 0.0688 - acc: 0.973 - ETA: 1s - loss: 0.0657 - acc: 0.975 - ETA: 1s - loss: 0.0635 - acc: 0.975 - ETA: 1s - loss: 0.0652 - acc: 0.974 - ETA: 0s - loss: 0.0677 - acc: 0.974 - ETA: 0s - loss: 0.0688 - acc: 0.973 - ETA: 0s - loss: 0.0671 - acc: 0.974 - ETA: 0s - loss: 0.0653 - acc: 0.974 - ETA: 0s - loss: 0.0628 - acc: 0.976 - ETA: 0s - loss: 0.0614 - acc: 0.977 - ETA: 0s - loss: 0.0599 - acc: 0.978 - 3s 1ms/step - loss: 0.0593 - acc: 0.9780\n",
      "Epoch 14/50\n",
      "2087/2087 [==============================] - ETA: 2s - loss: 0.0310 - acc: 0.990 - ETA: 2s - loss: 0.0226 - acc: 0.995 - ETA: 2s - loss: 0.0225 - acc: 0.993 - ETA: 2s - loss: 0.0243 - acc: 0.992 - ETA: 2s - loss: 0.0278 - acc: 0.990 - ETA: 1s - loss: 0.0394 - acc: 0.985 - ETA: 1s - loss: 0.0418 - acc: 0.985 - ETA: 1s - loss: 0.0414 - acc: 0.986 - ETA: 1s - loss: 0.0400 - acc: 0.986 - ETA: 1s - loss: 0.0393 - acc: 0.986 - ETA: 1s - loss: 0.0531 - acc: 0.980 - ETA: 1s - loss: 0.0528 - acc: 0.980 - ETA: 1s - loss: 0.0521 - acc: 0.980 - ETA: 0s - loss: 0.0539 - acc: 0.980 - ETA: 0s - loss: 0.0540 - acc: 0.980 - ETA: 0s - loss: 0.0528 - acc: 0.981 - ETA: 0s - loss: 0.0516 - acc: 0.981 - ETA: 0s - loss: 0.0527 - acc: 0.981 - ETA: 0s - loss: 0.0506 - acc: 0.982 - ETA: 0s - loss: 0.0492 - acc: 0.983 - 3s 1ms/step - loss: 0.0477 - acc: 0.9837\n",
      "Epoch 15/50\n",
      "2087/2087 [==============================] - ETA: 2s - loss: 0.0135 - acc: 1.000 - ETA: 2s - loss: 0.0115 - acc: 1.000 - ETA: 2s - loss: 0.0123 - acc: 1.000 - ETA: 2s - loss: 0.0275 - acc: 0.992 - ETA: 2s - loss: 0.0390 - acc: 0.986 - ETA: 2s - loss: 0.0399 - acc: 0.983 - ETA: 1s - loss: 0.0376 - acc: 0.985 - ETA: 1s - loss: 0.0379 - acc: 0.985 - ETA: 1s - loss: 0.0405 - acc: 0.982 - ETA: 1s - loss: 0.0391 - acc: 0.983 - ETA: 1s - loss: 0.0383 - acc: 0.983 - ETA: 1s - loss: 0.0379 - acc: 0.984 - ETA: 1s - loss: 0.0372 - acc: 0.983 - ETA: 0s - loss: 0.0355 - acc: 0.985 - ETA: 0s - loss: 0.0370 - acc: 0.984 - ETA: 0s - loss: 0.0365 - acc: 0.984 - ETA: 0s - loss: 0.0402 - acc: 0.984 - ETA: 0s - loss: 0.0395 - acc: 0.984 - ETA: 0s - loss: 0.0398 - acc: 0.983 - ETA: 0s - loss: 0.0384 - acc: 0.984 - 3s 1ms/step - loss: 0.0397 - acc: 0.9842\n",
      "Epoch 16/50\n",
      "2087/2087 [==============================] - ETA: 2s - loss: 0.0343 - acc: 0.990 - ETA: 2s - loss: 0.0226 - acc: 0.995 - ETA: 2s - loss: 0.0182 - acc: 0.996 - ETA: 2s - loss: 0.0173 - acc: 0.995 - ETA: 2s - loss: 0.0244 - acc: 0.994 - ETA: 1s - loss: 0.0236 - acc: 0.993 - ETA: 1s - loss: 0.0306 - acc: 0.991 - ETA: 1s - loss: 0.0280 - acc: 0.992 - ETA: 1s - loss: 0.0266 - acc: 0.992 - ETA: 1s - loss: 0.0259 - acc: 0.992 - ETA: 1s - loss: 0.0255 - acc: 0.991 - ETA: 1s - loss: 0.0307 - acc: 0.990 - ETA: 1s - loss: 0.0304 - acc: 0.990 - ETA: 0s - loss: 0.0308 - acc: 0.988 - ETA: 0s - loss: 0.0322 - acc: 0.986 - ETA: 0s - loss: 0.0307 - acc: 0.987 - ETA: 0s - loss: 0.0335 - acc: 0.986 - ETA: 0s - loss: 0.0331 - acc: 0.987 - ETA: 0s - loss: 0.0322 - acc: 0.987 - ETA: 0s - loss: 0.0320 - acc: 0.987 - 3s 1ms/step - loss: 0.0338 - acc: 0.9866\n",
      "Epoch 17/50\n",
      "2087/2087 [==============================] - ETA: 2s - loss: 0.0303 - acc: 0.990 - ETA: 2s - loss: 0.0328 - acc: 0.990 - ETA: 2s - loss: 0.0300 - acc: 0.990 - ETA: 2s - loss: 0.0246 - acc: 0.992 - ETA: 2s - loss: 0.0215 - acc: 0.994 - ETA: 1s - loss: 0.0215 - acc: 0.991 - ETA: 1s - loss: 0.0190 - acc: 0.992 - ETA: 1s - loss: 0.0319 - acc: 0.988 - ETA: 1s - loss: 0.0385 - acc: 0.986 - ETA: 1s - loss: 0.0398 - acc: 0.986 - ETA: 1s - loss: 0.0377 - acc: 0.987 - ETA: 1s - loss: 0.0385 - acc: 0.985 - ETA: 1s - loss: 0.0375 - acc: 0.986 - ETA: 0s - loss: 0.0384 - acc: 0.985 - ETA: 0s - loss: 0.0375 - acc: 0.986 - ETA: 0s - loss: 0.0361 - acc: 0.986 - ETA: 0s - loss: 0.0381 - acc: 0.987 - ETA: 0s - loss: 0.0374 - acc: 0.987 - ETA: 0s - loss: 0.0383 - acc: 0.986 - ETA: 0s - loss: 0.0374 - acc: 0.987 - 3s 1ms/step - loss: 0.0372 - acc: 0.9875\n",
      "Epoch 18/50\n",
      "2087/2087 [==============================] - ETA: 2s - loss: 0.0035 - acc: 1.000 - ETA: 2s - loss: 0.0088 - acc: 1.000 - ETA: 2s - loss: 0.0200 - acc: 0.993 - ETA: 2s - loss: 0.0177 - acc: 0.995 - ETA: 2s - loss: 0.0201 - acc: 0.994 - ETA: 1s - loss: 0.0199 - acc: 0.993 - ETA: 1s - loss: 0.0228 - acc: 0.992 - ETA: 1s - loss: 0.0249 - acc: 0.992 - ETA: 1s - loss: 0.0261 - acc: 0.991 - ETA: 1s - loss: 0.0247 - acc: 0.992 - ETA: 1s - loss: 0.0256 - acc: 0.991 - ETA: 1s - loss: 0.0252 - acc: 0.991 - ETA: 1s - loss: 0.0252 - acc: 0.991 - ETA: 0s - loss: 0.0246 - acc: 0.991 - ETA: 0s - loss: 0.0241 - acc: 0.991 - ETA: 0s - loss: 0.0243 - acc: 0.990 - ETA: 0s - loss: 0.0248 - acc: 0.990 - ETA: 0s - loss: 0.0276 - acc: 0.988 - ETA: 0s - loss: 0.0278 - acc: 0.989 - ETA: 0s - loss: 0.0284 - acc: 0.989 - 3s 1ms/step - loss: 0.0274 - acc: 0.9895\n",
      "Epoch 19/50\n"
     ]
    },
    {
     "name": "stdout",
     "output_type": "stream",
     "text": [
      "2087/2087 [==============================] - ETA: 2s - loss: 0.0083 - acc: 1.000 - ETA: 2s - loss: 0.0064 - acc: 1.000 - ETA: 2s - loss: 0.0099 - acc: 1.000 - ETA: 2s - loss: 0.0092 - acc: 1.000 - ETA: 2s - loss: 0.0111 - acc: 0.998 - ETA: 1s - loss: 0.0188 - acc: 0.995 - ETA: 1s - loss: 0.0165 - acc: 0.995 - ETA: 1s - loss: 0.0154 - acc: 0.996 - ETA: 1s - loss: 0.0144 - acc: 0.996 - ETA: 1s - loss: 0.0131 - acc: 0.997 - ETA: 1s - loss: 0.0133 - acc: 0.996 - ETA: 1s - loss: 0.0143 - acc: 0.995 - ETA: 1s - loss: 0.0158 - acc: 0.995 - ETA: 0s - loss: 0.0155 - acc: 0.995 - ETA: 0s - loss: 0.0153 - acc: 0.995 - ETA: 0s - loss: 0.0150 - acc: 0.995 - ETA: 0s - loss: 0.0150 - acc: 0.995 - ETA: 0s - loss: 0.0147 - acc: 0.996 - ETA: 0s - loss: 0.0143 - acc: 0.996 - ETA: 0s - loss: 0.0138 - acc: 0.996 - 3s 1ms/step - loss: 0.0148 - acc: 0.9957\n",
      "Epoch 20/50\n",
      "2087/2087 [==============================] - ETA: 2s - loss: 0.0468 - acc: 0.980 - ETA: 2s - loss: 0.0266 - acc: 0.990 - ETA: 2s - loss: 0.0208 - acc: 0.993 - ETA: 2s - loss: 0.0218 - acc: 0.992 - ETA: 2s - loss: 0.0200 - acc: 0.992 - ETA: 1s - loss: 0.0173 - acc: 0.993 - ETA: 1s - loss: 0.0158 - acc: 0.994 - ETA: 1s - loss: 0.0143 - acc: 0.995 - ETA: 1s - loss: 0.0137 - acc: 0.995 - ETA: 1s - loss: 0.0124 - acc: 0.996 - ETA: 1s - loss: 0.0126 - acc: 0.995 - ETA: 1s - loss: 0.0150 - acc: 0.995 - ETA: 0s - loss: 0.0208 - acc: 0.992 - ETA: 0s - loss: 0.0226 - acc: 0.990 - ETA: 0s - loss: 0.0258 - acc: 0.990 - ETA: 0s - loss: 0.0259 - acc: 0.990 - ETA: 0s - loss: 0.0252 - acc: 0.990 - ETA: 0s - loss: 0.0241 - acc: 0.991 - ETA: 0s - loss: 0.0237 - acc: 0.991 - ETA: 0s - loss: 0.0268 - acc: 0.990 - 3s 1ms/step - loss: 0.0266 - acc: 0.9899\n",
      "Epoch 21/50\n",
      "2087/2087 [==============================] - ETA: 2s - loss: 0.0228 - acc: 0.990 - ETA: 2s - loss: 0.0169 - acc: 0.995 - ETA: 2s - loss: 0.0132 - acc: 0.996 - ETA: 2s - loss: 0.0121 - acc: 0.997 - ETA: 2s - loss: 0.0115 - acc: 0.998 - ETA: 1s - loss: 0.0101 - acc: 0.998 - ETA: 1s - loss: 0.0091 - acc: 0.998 - ETA: 1s - loss: 0.0096 - acc: 0.998 - ETA: 1s - loss: 0.0147 - acc: 0.997 - ETA: 1s - loss: 0.0175 - acc: 0.997 - ETA: 1s - loss: 0.0175 - acc: 0.996 - ETA: 1s - loss: 0.0166 - acc: 0.996 - ETA: 1s - loss: 0.0163 - acc: 0.996 - ETA: 0s - loss: 0.0162 - acc: 0.997 - ETA: 0s - loss: 0.0190 - acc: 0.995 - ETA: 0s - loss: 0.0309 - acc: 0.993 - ETA: 0s - loss: 0.0300 - acc: 0.993 - ETA: 0s - loss: 0.0297 - acc: 0.992 - ETA: 0s - loss: 0.0289 - acc: 0.993 - ETA: 0s - loss: 0.0276 - acc: 0.993 - 3s 1ms/step - loss: 0.0267 - acc: 0.9938\n",
      "Epoch 22/50\n",
      "2087/2087 [==============================] - ETA: 2s - loss: 0.0019 - acc: 1.000 - ETA: 3s - loss: 0.0021 - acc: 1.000 - ETA: 2s - loss: 0.0073 - acc: 0.996 - ETA: 2s - loss: 0.0059 - acc: 0.997 - ETA: 2s - loss: 0.0057 - acc: 0.998 - ETA: 2s - loss: 0.0065 - acc: 0.998 - ETA: 2s - loss: 0.0064 - acc: 0.998 - ETA: 2s - loss: 0.0058 - acc: 0.998 - ETA: 1s - loss: 0.0066 - acc: 0.998 - ETA: 1s - loss: 0.0076 - acc: 0.998 - ETA: 1s - loss: 0.0091 - acc: 0.997 - ETA: 1s - loss: 0.0089 - acc: 0.997 - ETA: 1s - loss: 0.0085 - acc: 0.997 - ETA: 1s - loss: 0.0085 - acc: 0.997 - ETA: 0s - loss: 0.0083 - acc: 0.998 - ETA: 0s - loss: 0.0082 - acc: 0.998 - ETA: 0s - loss: 0.0092 - acc: 0.997 - ETA: 0s - loss: 0.0142 - acc: 0.997 - ETA: 0s - loss: 0.0153 - acc: 0.996 - ETA: 0s - loss: 0.0158 - acc: 0.996 - 3s 2ms/step - loss: 0.0153 - acc: 0.9962\n",
      "Epoch 23/50\n",
      "2087/2087 [==============================] - ETA: 2s - loss: 0.0066 - acc: 1.000 - ETA: 2s - loss: 0.0166 - acc: 0.995 - ETA: 2s - loss: 0.0146 - acc: 0.996 - ETA: 2s - loss: 0.0116 - acc: 0.997 - ETA: 2s - loss: 0.0099 - acc: 0.998 - ETA: 1s - loss: 0.0118 - acc: 0.996 - ETA: 1s - loss: 0.0104 - acc: 0.997 - ETA: 1s - loss: 0.0095 - acc: 0.997 - ETA: 1s - loss: 0.0089 - acc: 0.997 - ETA: 1s - loss: 0.0081 - acc: 0.998 - ETA: 1s - loss: 0.0077 - acc: 0.998 - ETA: 1s - loss: 0.0077 - acc: 0.998 - ETA: 1s - loss: 0.0071 - acc: 0.998 - ETA: 0s - loss: 0.0067 - acc: 0.998 - ETA: 0s - loss: 0.0067 - acc: 0.998 - ETA: 0s - loss: 0.0063 - acc: 0.998 - ETA: 0s - loss: 0.0060 - acc: 0.998 - ETA: 0s - loss: 0.0059 - acc: 0.998 - ETA: 0s - loss: 0.0069 - acc: 0.998 - ETA: 0s - loss: 0.0071 - acc: 0.998 - 3s 1ms/step - loss: 0.0069 - acc: 0.9981\n",
      "Epoch 24/50\n",
      "2087/2087 [==============================] - ETA: 2s - loss: 4.0369e-04 - acc: 1.000 - ETA: 2s - loss: 0.0021 - acc: 1.0000    - ETA: 2s - loss: 0.0110 - acc: 0.996 - ETA: 2s - loss: 0.0176 - acc: 0.995 - ETA: 2s - loss: 0.0150 - acc: 0.996 - ETA: 2s - loss: 0.0130 - acc: 0.996 - ETA: 2s - loss: 0.0127 - acc: 0.997 - ETA: 1s - loss: 0.0118 - acc: 0.997 - ETA: 1s - loss: 0.0111 - acc: 0.997 - ETA: 1s - loss: 0.0103 - acc: 0.998 - ETA: 1s - loss: 0.0098 - acc: 0.998 - ETA: 1s - loss: 0.0096 - acc: 0.998 - ETA: 1s - loss: 0.0091 - acc: 0.998 - ETA: 1s - loss: 0.0086 - acc: 0.998 - ETA: 0s - loss: 0.0084 - acc: 0.998 - ETA: 0s - loss: 0.0081 - acc: 0.998 - ETA: 0s - loss: 0.0091 - acc: 0.997 - ETA: 0s - loss: 0.0095 - acc: 0.997 - ETA: 0s - loss: 0.0102 - acc: 0.996 - ETA: 0s - loss: 0.0098 - acc: 0.997 - 3s 1ms/step - loss: 0.0097 - acc: 0.9971\n",
      "Epoch 25/50\n",
      "2087/2087 [==============================] - ETA: 2s - loss: 0.0016 - acc: 1.000 - ETA: 2s - loss: 0.0030 - acc: 1.000 - ETA: 2s - loss: 0.0122 - acc: 0.990 - ETA: 2s - loss: 0.0135 - acc: 0.992 - ETA: 2s - loss: 0.0119 - acc: 0.994 - ETA: 2s - loss: 0.0101 - acc: 0.995 - ETA: 1s - loss: 0.0091 - acc: 0.995 - ETA: 1s - loss: 0.0099 - acc: 0.995 - ETA: 1s - loss: 0.0116 - acc: 0.994 - ETA: 1s - loss: 0.0124 - acc: 0.994 - ETA: 1s - loss: 0.0145 - acc: 0.992 - ETA: 1s - loss: 0.0173 - acc: 0.991 - ETA: 1s - loss: 0.0171 - acc: 0.991 - ETA: 0s - loss: 0.0176 - acc: 0.990 - ETA: 0s - loss: 0.0176 - acc: 0.990 - ETA: 0s - loss: 0.0170 - acc: 0.991 - ETA: 0s - loss: 0.0162 - acc: 0.991 - ETA: 0s - loss: 0.0158 - acc: 0.992 - ETA: 0s - loss: 0.0159 - acc: 0.992 - ETA: 0s - loss: 0.0152 - acc: 0.992 - 3s 1ms/step - loss: 0.0148 - acc: 0.9928\n",
      "Epoch 26/50\n",
      "2087/2087 [==============================] - ETA: 2s - loss: 9.4582e-04 - acc: 1.000 - ETA: 2s - loss: 0.0040 - acc: 1.0000    - ETA: 2s - loss: 0.0090 - acc: 0.996 - ETA: 2s - loss: 0.0077 - acc: 0.997 - ETA: 2s - loss: 0.0076 - acc: 0.998 - ETA: 1s - loss: 0.0067 - acc: 0.998 - ETA: 1s - loss: 0.0065 - acc: 0.998 - ETA: 1s - loss: 0.0061 - acc: 0.998 - ETA: 1s - loss: 0.0055 - acc: 0.998 - ETA: 1s - loss: 0.0052 - acc: 0.999 - ETA: 1s - loss: 0.0056 - acc: 0.999 - ETA: 1s - loss: 0.0056 - acc: 0.999 - ETA: 1s - loss: 0.0063 - acc: 0.999 - ETA: 0s - loss: 0.0094 - acc: 0.997 - ETA: 0s - loss: 0.0089 - acc: 0.998 - ETA: 0s - loss: 0.0088 - acc: 0.998 - ETA: 0s - loss: 0.0086 - acc: 0.998 - ETA: 0s - loss: 0.0088 - acc: 0.997 - ETA: 0s - loss: 0.0108 - acc: 0.997 - ETA: 0s - loss: 0.0105 - acc: 0.997 - 3s 1ms/step - loss: 0.0103 - acc: 0.9976\n",
      "Epoch 27/50\n",
      "2087/2087 [==============================] - ETA: 2s - loss: 0.0020 - acc: 1.000 - ETA: 2s - loss: 0.0014 - acc: 1.000 - ETA: 2s - loss: 0.0110 - acc: 0.996 - ETA: 2s - loss: 0.0117 - acc: 0.995 - ETA: 2s - loss: 0.0222 - acc: 0.992 - ETA: 1s - loss: 0.0232 - acc: 0.990 - ETA: 1s - loss: 0.0207 - acc: 0.991 - ETA: 1s - loss: 0.0194 - acc: 0.992 - ETA: 1s - loss: 0.0179 - acc: 0.993 - ETA: 1s - loss: 0.0164 - acc: 0.994 - ETA: 1s - loss: 0.0162 - acc: 0.993 - ETA: 1s - loss: 0.0151 - acc: 0.994 - ETA: 1s - loss: 0.0151 - acc: 0.994 - ETA: 0s - loss: 0.0142 - acc: 0.995 - ETA: 0s - loss: 0.0135 - acc: 0.995 - ETA: 0s - loss: 0.0143 - acc: 0.994 - ETA: 0s - loss: 0.0150 - acc: 0.994 - ETA: 0s - loss: 0.0148 - acc: 0.994 - ETA: 0s - loss: 0.0144 - acc: 0.994 - ETA: 0s - loss: 0.0138 - acc: 0.995 - 3s 1ms/step - loss: 0.0141 - acc: 0.9947\n",
      "Epoch 28/50\n",
      "2087/2087 [==============================] - ETA: 2s - loss: 0.0072 - acc: 1.000 - ETA: 2s - loss: 0.0211 - acc: 0.995 - ETA: 2s - loss: 0.0232 - acc: 0.993 - ETA: 2s - loss: 0.0179 - acc: 0.995 - ETA: 2s - loss: 0.0153 - acc: 0.996 - ETA: 1s - loss: 0.0187 - acc: 0.995 - ETA: 1s - loss: 0.0191 - acc: 0.994 - ETA: 1s - loss: 0.0185 - acc: 0.993 - ETA: 1s - loss: 0.0175 - acc: 0.994 - ETA: 1s - loss: 0.0160 - acc: 0.995 - ETA: 1s - loss: 0.0146 - acc: 0.995 - ETA: 1s - loss: 0.0135 - acc: 0.995 - ETA: 1s - loss: 0.0128 - acc: 0.996 - ETA: 0s - loss: 0.0151 - acc: 0.995 - ETA: 0s - loss: 0.0146 - acc: 0.996 - ETA: 0s - loss: 0.0137 - acc: 0.996 - ETA: 0s - loss: 0.0133 - acc: 0.996 - ETA: 0s - loss: 0.0126 - acc: 0.996 - ETA: 0s - loss: 0.0120 - acc: 0.996 - ETA: 0s - loss: 0.0116 - acc: 0.997 - 3s 1ms/step - loss: 0.0112 - acc: 0.9971\n",
      "Epoch 29/50\n",
      "2087/2087 [==============================] - ETA: 2s - loss: 7.5091e-04 - acc: 1.000 - ETA: 2s - loss: 0.0206 - acc: 0.9900    - ETA: 2s - loss: 0.0208 - acc: 0.990 - ETA: 2s - loss: 0.0167 - acc: 0.992 - ETA: 1s - loss: 0.0152 - acc: 0.994 - ETA: 1s - loss: 0.0132 - acc: 0.995 - ETA: 1s - loss: 0.0116 - acc: 0.995 - ETA: 1s - loss: 0.0104 - acc: 0.996 - ETA: 1s - loss: 0.0093 - acc: 0.996 - ETA: 1s - loss: 0.0085 - acc: 0.997 - ETA: 1s - loss: 0.0086 - acc: 0.997 - ETA: 1s - loss: 0.0081 - acc: 0.997 - ETA: 1s - loss: 0.0088 - acc: 0.996 - ETA: 0s - loss: 0.0083 - acc: 0.997 - ETA: 0s - loss: 0.0082 - acc: 0.997 - ETA: 0s - loss: 0.0078 - acc: 0.997 - ETA: 0s - loss: 0.0102 - acc: 0.997 - ETA: 0s - loss: 0.0112 - acc: 0.996 - ETA: 0s - loss: 0.0112 - acc: 0.996 - ETA: 0s - loss: 0.0109 - acc: 0.996 - 3s 1ms/step - loss: 0.0106 - acc: 0.9966\n",
      "Epoch 30/50\n",
      "2087/2087 [==============================] - ETA: 2s - loss: 0.0025 - acc: 1.000 - ETA: 2s - loss: 0.0066 - acc: 0.995 - ETA: 2s - loss: 0.0053 - acc: 0.996 - ETA: 2s - loss: 0.0042 - acc: 0.997 - ETA: 2s - loss: 0.0055 - acc: 0.996 - ETA: 2s - loss: 0.0184 - acc: 0.993 - ETA: 1s - loss: 0.0166 - acc: 0.994 - ETA: 1s - loss: 0.0165 - acc: 0.993 - ETA: 1s - loss: 0.0148 - acc: 0.994 - ETA: 1s - loss: 0.0137 - acc: 0.995 - ETA: 1s - loss: 0.0141 - acc: 0.994 - ETA: 1s - loss: 0.0133 - acc: 0.995 - ETA: 1s - loss: 0.0134 - acc: 0.994 - ETA: 0s - loss: 0.0127 - acc: 0.995 - ETA: 0s - loss: 0.0119 - acc: 0.995 - ETA: 0s - loss: 0.0113 - acc: 0.995 - ETA: 0s - loss: 0.0107 - acc: 0.995 - ETA: 0s - loss: 0.0111 - acc: 0.995 - ETA: 0s - loss: 0.0106 - acc: 0.995 - ETA: 0s - loss: 0.0103 - acc: 0.996 - 3s 1ms/step - loss: 0.0099 - acc: 0.9962\n",
      "Epoch 31/50\n",
      "2087/2087 [==============================] - ETA: 2s - loss: 0.0035 - acc: 1.000 - ETA: 2s - loss: 0.0056 - acc: 1.000 - ETA: 2s - loss: 0.0040 - acc: 1.000 - ETA: 2s - loss: 0.0030 - acc: 1.000 - ETA: 2s - loss: 0.0032 - acc: 1.000 - ETA: 2s - loss: 0.0028 - acc: 1.000 - ETA: 2s - loss: 0.0025 - acc: 1.000 - ETA: 1s - loss: 0.0023 - acc: 1.000 - ETA: 1s - loss: 0.0022 - acc: 1.000 - ETA: 1s - loss: 0.0024 - acc: 1.000 - ETA: 1s - loss: 0.0023 - acc: 1.000 - ETA: 1s - loss: 0.0024 - acc: 1.000 - ETA: 1s - loss: 0.0022 - acc: 1.000 - ETA: 0s - loss: 0.0022 - acc: 1.000 - ETA: 0s - loss: 0.0022 - acc: 1.000 - ETA: 0s - loss: 0.0022 - acc: 1.000 - ETA: 0s - loss: 0.0023 - acc: 1.000 - ETA: 0s - loss: 0.0022 - acc: 1.000 - ETA: 0s - loss: 0.0028 - acc: 0.999 - ETA: 0s - loss: 0.0027 - acc: 0.999 - 3s 1ms/step - loss: 0.0033 - acc: 0.9990\n",
      "Epoch 32/50\n",
      "2087/2087 [==============================] - ETA: 2s - loss: 0.0036 - acc: 1.000 - ETA: 2s - loss: 0.0058 - acc: 1.000 - ETA: 2s - loss: 0.0041 - acc: 1.000 - ETA: 2s - loss: 0.0033 - acc: 1.000 - ETA: 2s - loss: 0.0031 - acc: 1.000 - ETA: 1s - loss: 0.0028 - acc: 1.000 - ETA: 1s - loss: 0.0030 - acc: 1.000 - ETA: 1s - loss: 0.0027 - acc: 1.000 - ETA: 1s - loss: 0.0025 - acc: 1.000 - ETA: 1s - loss: 0.0023 - acc: 1.000 - ETA: 1s - loss: 0.0022 - acc: 1.000 - ETA: 1s - loss: 0.0022 - acc: 1.000 - ETA: 1s - loss: 0.0062 - acc: 0.999 - ETA: 0s - loss: 0.0059 - acc: 0.999 - ETA: 0s - loss: 0.0056 - acc: 0.999 - ETA: 0s - loss: 0.0053 - acc: 0.999 - ETA: 0s - loss: 0.0053 - acc: 0.999 - ETA: 0s - loss: 0.0050 - acc: 0.999 - ETA: 0s - loss: 0.0048 - acc: 0.999 - ETA: 0s - loss: 0.0045 - acc: 0.999 - 3s 1ms/step - loss: 0.0044 - acc: 0.9995\n",
      "Epoch 33/50\n",
      "2087/2087 [==============================] - ETA: 2s - loss: 5.3214e-04 - acc: 1.000 - ETA: 2s - loss: 5.2570e-04 - acc: 1.000 - ETA: 2s - loss: 5.3783e-04 - acc: 1.000 - ETA: 2s - loss: 7.9245e-04 - acc: 1.000 - ETA: 2s - loss: 0.0012 - acc: 1.0000    - ETA: 2s - loss: 0.0014 - acc: 1.000 - ETA: 1s - loss: 0.0012 - acc: 1.000 - ETA: 1s - loss: 0.0014 - acc: 1.000 - ETA: 1s - loss: 0.0012 - acc: 1.000 - ETA: 1s - loss: 0.0014 - acc: 1.000 - ETA: 1s - loss: 0.0013 - acc: 1.000 - ETA: 1s - loss: 0.0012 - acc: 1.000 - ETA: 1s - loss: 0.0011 - acc: 1.000 - ETA: 0s - loss: 0.0012 - acc: 1.000 - ETA: 0s - loss: 0.0011 - acc: 1.000 - ETA: 0s - loss: 0.0014 - acc: 1.000 - ETA: 0s - loss: 0.0038 - acc: 0.998 - ETA: 0s - loss: 0.0041 - acc: 0.998 - ETA: 0s - loss: 0.0039 - acc: 0.998 - ETA: 0s - loss: 0.0037 - acc: 0.999 - 3s 1ms/step - loss: 0.0045 - acc: 0.9986\n",
      "Epoch 34/50\n",
      "2087/2087 [==============================] - ETA: 2s - loss: 5.7817e-04 - acc: 1.000 - ETA: 2s - loss: 0.0015 - acc: 1.0000    - ETA: 2s - loss: 0.0011 - acc: 1.000 - ETA: 2s - loss: 8.8444e-04 - acc: 1.000 - ETA: 2s - loss: 8.5847e-04 - acc: 1.000 - ETA: 2s - loss: 7.9160e-04 - acc: 1.000 - ETA: 1s - loss: 9.8837e-04 - acc: 1.000 - ETA: 1s - loss: 0.0014 - acc: 1.0000    - ETA: 1s - loss: 0.0019 - acc: 1.000 - ETA: 1s - loss: 0.0017 - acc: 1.000 - ETA: 1s - loss: 0.0015 - acc: 1.000 - ETA: 1s - loss: 0.0014 - acc: 1.000 - ETA: 1s - loss: 0.0014 - acc: 1.000 - ETA: 0s - loss: 0.0014 - acc: 1.000 - ETA: 0s - loss: 0.0014 - acc: 1.000 - ETA: 0s - loss: 0.0013 - acc: 1.000 - ETA: 0s - loss: 0.0014 - acc: 1.000 - ETA: 0s - loss: 0.0016 - acc: 1.000 - ETA: 0s - loss: 0.0018 - acc: 1.000 - ETA: 0s - loss: 0.0022 - acc: 0.999 - 3s 1ms/step - loss: 0.0021 - acc: 0.9995\n",
      "Epoch 35/50\n",
      "2087/2087 [==============================] - ETA: 2s - loss: 0.0024 - acc: 1.000 - ETA: 2s - loss: 0.0032 - acc: 1.000 - ETA: 2s - loss: 0.0146 - acc: 0.996 - ETA: 2s - loss: 0.0110 - acc: 0.997 - ETA: 2s - loss: 0.0091 - acc: 0.998 - ETA: 2s - loss: 0.0082 - acc: 0.998 - ETA: 1s - loss: 0.0071 - acc: 0.998 - ETA: 1s - loss: 0.0063 - acc: 0.998 - ETA: 1s - loss: 0.0086 - acc: 0.997 - ETA: 1s - loss: 0.0093 - acc: 0.997 - ETA: 1s - loss: 0.0089 - acc: 0.997 - ETA: 1s - loss: 0.0082 - acc: 0.997 - ETA: 1s - loss: 0.0077 - acc: 0.997 - ETA: 0s - loss: 0.0093 - acc: 0.997 - ETA: 0s - loss: 0.0121 - acc: 0.996 - ETA: 0s - loss: 0.0122 - acc: 0.996 - ETA: 0s - loss: 0.0121 - acc: 0.997 - ETA: 0s - loss: 0.0138 - acc: 0.996 - ETA: 0s - loss: 0.0131 - acc: 0.996 - ETA: 0s - loss: 0.0128 - acc: 0.997 - 3s 1ms/step - loss: 0.0125 - acc: 0.9971\n",
      "Epoch 36/50\n",
      "2087/2087 [==============================] - ETA: 2s - loss: 5.7748e-05 - acc: 1.000 - ETA: 2s - loss: 5.2515e-04 - acc: 1.000 - ETA: 2s - loss: 7.3136e-04 - acc: 1.000 - ETA: 2s - loss: 0.0077 - acc: 0.9975    - ETA: 2s - loss: 0.0066 - acc: 0.998 - ETA: 1s - loss: 0.0060 - acc: 0.998 - ETA: 1s - loss: 0.0056 - acc: 0.998 - ETA: 1s - loss: 0.0050 - acc: 0.998 - ETA: 1s - loss: 0.0045 - acc: 0.998 - ETA: 1s - loss: 0.0073 - acc: 0.998 - ETA: 1s - loss: 0.0115 - acc: 0.995 - ETA: 1s - loss: 0.0111 - acc: 0.995 - ETA: 1s - loss: 0.0104 - acc: 0.996 - ETA: 0s - loss: 0.0098 - acc: 0.996 - ETA: 0s - loss: 0.0096 - acc: 0.996 - ETA: 0s - loss: 0.0091 - acc: 0.996 - ETA: 0s - loss: 0.0086 - acc: 0.997 - ETA: 0s - loss: 0.0084 - acc: 0.997 - ETA: 0s - loss: 0.0080 - acc: 0.997 - ETA: 0s - loss: 0.0077 - acc: 0.997 - 3s 1ms/step - loss: 0.0075 - acc: 0.9976\n",
      "Epoch 37/50\n"
     ]
    },
    {
     "name": "stdout",
     "output_type": "stream",
     "text": [
      "2087/2087 [==============================] - ETA: 2s - loss: 0.0036 - acc: 1.000 - ETA: 2s - loss: 0.0023 - acc: 1.000 - ETA: 2s - loss: 0.0067 - acc: 0.996 - ETA: 2s - loss: 0.0056 - acc: 0.997 - ETA: 2s - loss: 0.0047 - acc: 0.998 - ETA: 2s - loss: 0.0042 - acc: 0.998 - ETA: 2s - loss: 0.0038 - acc: 0.998 - ETA: 1s - loss: 0.0033 - acc: 0.998 - ETA: 1s - loss: 0.0030 - acc: 0.998 - ETA: 1s - loss: 0.0030 - acc: 0.999 - ETA: 1s - loss: 0.0028 - acc: 0.999 - ETA: 1s - loss: 0.0026 - acc: 0.999 - ETA: 1s - loss: 0.0026 - acc: 0.999 - ETA: 1s - loss: 0.0025 - acc: 0.999 - ETA: 0s - loss: 0.0031 - acc: 0.998 - ETA: 0s - loss: 0.0029 - acc: 0.998 - ETA: 0s - loss: 0.0030 - acc: 0.998 - ETA: 0s - loss: 0.0029 - acc: 0.998 - ETA: 0s - loss: 0.0028 - acc: 0.998 - ETA: 0s - loss: 0.0028 - acc: 0.999 - 3s 1ms/step - loss: 0.0027 - acc: 0.9990\n",
      "Epoch 38/50\n",
      "2087/2087 [==============================] - ETA: 2s - loss: 3.4432e-04 - acc: 1.000 - ETA: 2s - loss: 2.4517e-04 - acc: 1.000 - ETA: 2s - loss: 2.8404e-04 - acc: 1.000 - ETA: 2s - loss: 3.6742e-04 - acc: 1.000 - ETA: 2s - loss: 3.1201e-04 - acc: 1.000 - ETA: 1s - loss: 2.7978e-04 - acc: 1.000 - ETA: 1s - loss: 3.6069e-04 - acc: 1.000 - ETA: 1s - loss: 3.4403e-04 - acc: 1.000 - ETA: 1s - loss: 3.4600e-04 - acc: 1.000 - ETA: 1s - loss: 3.2441e-04 - acc: 1.000 - ETA: 1s - loss: 3.0860e-04 - acc: 1.000 - ETA: 1s - loss: 3.0068e-04 - acc: 1.000 - ETA: 1s - loss: 2.9814e-04 - acc: 1.000 - ETA: 0s - loss: 5.4531e-04 - acc: 1.000 - ETA: 0s - loss: 9.5015e-04 - acc: 1.000 - ETA: 0s - loss: 0.0011 - acc: 1.0000    - ETA: 0s - loss: 0.0026 - acc: 0.999 - ETA: 0s - loss: 0.0037 - acc: 0.998 - ETA: 0s - loss: 0.0035 - acc: 0.998 - ETA: 0s - loss: 0.0034 - acc: 0.999 - 3s 1ms/step - loss: 0.0037 - acc: 0.9986\n",
      "Epoch 39/50\n",
      "2087/2087 [==============================] - ETA: 3s - loss: 0.0095 - acc: 1.000 - ETA: 2s - loss: 0.0146 - acc: 0.995 - ETA: 2s - loss: 0.0109 - acc: 0.996 - ETA: 2s - loss: 0.0198 - acc: 0.992 - ETA: 2s - loss: 0.0382 - acc: 0.990 - ETA: 1s - loss: 0.0333 - acc: 0.991 - ETA: 1s - loss: 0.0287 - acc: 0.992 - ETA: 1s - loss: 0.0252 - acc: 0.993 - ETA: 1s - loss: 0.0224 - acc: 0.994 - ETA: 1s - loss: 0.0205 - acc: 0.995 - ETA: 1s - loss: 0.0200 - acc: 0.994 - ETA: 1s - loss: 0.0183 - acc: 0.995 - ETA: 1s - loss: 0.0169 - acc: 0.995 - ETA: 0s - loss: 0.0158 - acc: 0.995 - ETA: 0s - loss: 0.0148 - acc: 0.996 - ETA: 0s - loss: 0.0139 - acc: 0.996 - ETA: 0s - loss: 0.0131 - acc: 0.996 - ETA: 0s - loss: 0.0124 - acc: 0.996 - ETA: 0s - loss: 0.0117 - acc: 0.996 - ETA: 0s - loss: 0.0117 - acc: 0.996 - 3s 1ms/step - loss: 0.0112 - acc: 0.9966\n",
      "Epoch 40/50\n",
      "2087/2087 [==============================] - ETA: 2s - loss: 0.0188 - acc: 0.980 - ETA: 2s - loss: 0.0098 - acc: 0.990 - ETA: 2s - loss: 0.0066 - acc: 0.993 - ETA: 1s - loss: 0.0057 - acc: 0.995 - ETA: 1s - loss: 0.0046 - acc: 0.996 - ETA: 1s - loss: 0.0040 - acc: 0.996 - ETA: 1s - loss: 0.0035 - acc: 0.997 - ETA: 1s - loss: 0.0031 - acc: 0.997 - ETA: 1s - loss: 0.0028 - acc: 0.997 - ETA: 1s - loss: 0.0026 - acc: 0.998 - ETA: 1s - loss: 0.0026 - acc: 0.998 - ETA: 1s - loss: 0.0024 - acc: 0.998 - ETA: 0s - loss: 0.0026 - acc: 0.998 - ETA: 0s - loss: 0.0026 - acc: 0.998 - ETA: 0s - loss: 0.0024 - acc: 0.998 - ETA: 0s - loss: 0.0023 - acc: 0.998 - ETA: 0s - loss: 0.0026 - acc: 0.998 - ETA: 0s - loss: 0.0031 - acc: 0.998 - ETA: 0s - loss: 0.0029 - acc: 0.998 - ETA: 0s - loss: 0.0029 - acc: 0.998 - 2s 1ms/step - loss: 0.0028 - acc: 0.9986\n",
      "Epoch 41/50\n",
      "2087/2087 [==============================] - ETA: 2s - loss: 0.0059 - acc: 1.000 - ETA: 1s - loss: 0.0031 - acc: 1.000 - ETA: 1s - loss: 0.0025 - acc: 1.000 - ETA: 1s - loss: 0.0019 - acc: 1.000 - ETA: 1s - loss: 0.0017 - acc: 1.000 - ETA: 1s - loss: 0.0016 - acc: 1.000 - ETA: 1s - loss: 0.0014 - acc: 1.000 - ETA: 1s - loss: 0.0018 - acc: 1.000 - ETA: 1s - loss: 0.0016 - acc: 1.000 - ETA: 1s - loss: 0.0015 - acc: 1.000 - ETA: 1s - loss: 0.0014 - acc: 1.000 - ETA: 0s - loss: 0.0013 - acc: 1.000 - ETA: 0s - loss: 0.0013 - acc: 1.000 - ETA: 0s - loss: 0.0014 - acc: 1.000 - ETA: 0s - loss: 0.0042 - acc: 0.999 - ETA: 0s - loss: 0.0039 - acc: 0.999 - ETA: 0s - loss: 0.0037 - acc: 0.999 - ETA: 0s - loss: 0.0035 - acc: 0.999 - ETA: 0s - loss: 0.0037 - acc: 0.999 - ETA: 0s - loss: 0.0035 - acc: 0.999 - 2s 1ms/step - loss: 0.0040 - acc: 0.9990\n",
      "Epoch 42/50\n",
      "2087/2087 [==============================] - ETA: 2s - loss: 0.0015 - acc: 1.000 - ETA: 2s - loss: 8.4200e-04 - acc: 1.000 - ETA: 2s - loss: 6.6610e-04 - acc: 1.000 - ETA: 1s - loss: 0.0011 - acc: 1.0000    - ETA: 1s - loss: 0.0010 - acc: 1.000 - ETA: 1s - loss: 8.9630e-04 - acc: 1.000 - ETA: 1s - loss: 0.0082 - acc: 0.9971    - ETA: 1s - loss: 0.0249 - acc: 0.995 - ETA: 1s - loss: 0.0222 - acc: 0.995 - ETA: 1s - loss: 0.0210 - acc: 0.995 - ETA: 1s - loss: 0.0201 - acc: 0.994 - ETA: 1s - loss: 0.0186 - acc: 0.995 - ETA: 0s - loss: 0.0184 - acc: 0.994 - ETA: 0s - loss: 0.0174 - acc: 0.995 - ETA: 0s - loss: 0.0164 - acc: 0.995 - ETA: 0s - loss: 0.0156 - acc: 0.995 - ETA: 0s - loss: 0.0148 - acc: 0.995 - ETA: 0s - loss: 0.0140 - acc: 0.996 - ETA: 0s - loss: 0.0138 - acc: 0.995 - ETA: 0s - loss: 0.0133 - acc: 0.996 - 2s 1ms/step - loss: 0.0135 - acc: 0.9957\n",
      "Epoch 43/50\n",
      "2087/2087 [==============================] - ETA: 2s - loss: 0.0068 - acc: 1.000 - ETA: 2s - loss: 0.0038 - acc: 1.000 - ETA: 2s - loss: 0.0028 - acc: 1.000 - ETA: 2s - loss: 0.0027 - acc: 1.000 - ETA: 2s - loss: 0.0033 - acc: 1.000 - ETA: 1s - loss: 0.0030 - acc: 1.000 - ETA: 1s - loss: 0.0027 - acc: 1.000 - ETA: 1s - loss: 0.0024 - acc: 1.000 - ETA: 1s - loss: 0.0022 - acc: 1.000 - ETA: 1s - loss: 0.0020 - acc: 1.000 - ETA: 1s - loss: 0.0019 - acc: 1.000 - ETA: 1s - loss: 0.0017 - acc: 1.000 - ETA: 0s - loss: 0.0017 - acc: 1.000 - ETA: 0s - loss: 0.0020 - acc: 1.000 - ETA: 0s - loss: 0.0036 - acc: 0.999 - ETA: 0s - loss: 0.0035 - acc: 0.999 - ETA: 0s - loss: 0.0033 - acc: 0.999 - ETA: 0s - loss: 0.0031 - acc: 0.999 - ETA: 0s - loss: 0.0030 - acc: 0.999 - ETA: 0s - loss: 0.0028 - acc: 0.999 - 3s 1ms/step - loss: 0.0027 - acc: 0.9995\n",
      "Epoch 44/50\n",
      "2087/2087 [==============================] - ETA: 2s - loss: 0.0073 - acc: 0.990 - ETA: 2s - loss: 0.0037 - acc: 0.995 - ETA: 2s - loss: 0.0028 - acc: 0.996 - ETA: 2s - loss: 0.0025 - acc: 0.997 - ETA: 1s - loss: 0.0020 - acc: 0.998 - ETA: 1s - loss: 0.0021 - acc: 0.998 - ETA: 1s - loss: 0.0018 - acc: 0.998 - ETA: 1s - loss: 0.0016 - acc: 0.998 - ETA: 1s - loss: 0.0016 - acc: 0.998 - ETA: 1s - loss: 0.0015 - acc: 0.999 - ETA: 1s - loss: 0.0014 - acc: 0.999 - ETA: 1s - loss: 0.0013 - acc: 0.999 - ETA: 0s - loss: 0.0014 - acc: 0.999 - ETA: 0s - loss: 0.0028 - acc: 0.998 - ETA: 0s - loss: 0.0030 - acc: 0.998 - ETA: 0s - loss: 0.0028 - acc: 0.998 - ETA: 0s - loss: 0.0027 - acc: 0.998 - ETA: 0s - loss: 0.0027 - acc: 0.998 - ETA: 0s - loss: 0.0027 - acc: 0.998 - ETA: 0s - loss: 0.0025 - acc: 0.999 - 3s 1ms/step - loss: 0.0025 - acc: 0.9990\n",
      "Epoch 45/50\n",
      "2087/2087 [==============================] - ETA: 2s - loss: 2.8769e-04 - acc: 1.000 - ETA: 2s - loss: 5.2536e-04 - acc: 1.000 - ETA: 2s - loss: 3.8322e-04 - acc: 1.000 - ETA: 2s - loss: 4.0003e-04 - acc: 1.000 - ETA: 2s - loss: 4.8536e-04 - acc: 1.000 - ETA: 2s - loss: 4.9484e-04 - acc: 1.000 - ETA: 1s - loss: 4.2496e-04 - acc: 1.000 - ETA: 1s - loss: 7.0811e-04 - acc: 1.000 - ETA: 1s - loss: 6.5074e-04 - acc: 1.000 - ETA: 1s - loss: 6.7860e-04 - acc: 1.000 - ETA: 1s - loss: 6.6995e-04 - acc: 1.000 - ETA: 1s - loss: 6.2364e-04 - acc: 1.000 - ETA: 1s - loss: 5.7698e-04 - acc: 1.000 - ETA: 0s - loss: 5.7928e-04 - acc: 1.000 - ETA: 0s - loss: 6.9063e-04 - acc: 1.000 - ETA: 0s - loss: 0.0024 - acc: 0.9994    - ETA: 0s - loss: 0.0023 - acc: 0.999 - ETA: 0s - loss: 0.0023 - acc: 0.999 - ETA: 0s - loss: 0.0024 - acc: 0.999 - ETA: 0s - loss: 0.0023 - acc: 0.999 - 3s 1ms/step - loss: 0.0023 - acc: 0.9995\n",
      "Epoch 46/50\n",
      "2087/2087 [==============================] - ETA: 3s - loss: 7.4962e-04 - acc: 1.000 - ETA: 2s - loss: 4.3465e-04 - acc: 1.000 - ETA: 2s - loss: 7.4762e-04 - acc: 1.000 - ETA: 2s - loss: 6.5415e-04 - acc: 1.000 - ETA: 2s - loss: 0.0013 - acc: 1.0000    - ETA: 2s - loss: 0.0012 - acc: 1.000 - ETA: 2s - loss: 0.0010 - acc: 1.000 - ETA: 1s - loss: 9.6884e-04 - acc: 1.000 - ETA: 1s - loss: 8.6452e-04 - acc: 1.000 - ETA: 1s - loss: 7.8227e-04 - acc: 1.000 - ETA: 1s - loss: 9.4814e-04 - acc: 1.000 - ETA: 1s - loss: 8.7344e-04 - acc: 1.000 - ETA: 1s - loss: 8.2896e-04 - acc: 1.000 - ETA: 1s - loss: 7.8263e-04 - acc: 1.000 - ETA: 0s - loss: 7.4977e-04 - acc: 1.000 - ETA: 0s - loss: 0.0020 - acc: 0.9994    - ETA: 0s - loss: 0.0019 - acc: 0.999 - ETA: 0s - loss: 0.0018 - acc: 0.999 - ETA: 0s - loss: 0.0017 - acc: 0.999 - ETA: 0s - loss: 0.0017 - acc: 0.999 - 3s 2ms/step - loss: 0.0016 - acc: 0.9995\n",
      "Epoch 47/50\n",
      "2087/2087 [==============================] - ETA: 2s - loss: 0.0011 - acc: 1.000 - ETA: 2s - loss: 0.0017 - acc: 1.000 - ETA: 2s - loss: 0.0012 - acc: 1.000 - ETA: 2s - loss: 9.5475e-04 - acc: 1.000 - ETA: 2s - loss: 7.7677e-04 - acc: 1.000 - ETA: 2s - loss: 0.0071 - acc: 0.9983    - ETA: 1s - loss: 0.0072 - acc: 0.998 - ETA: 1s - loss: 0.0064 - acc: 0.998 - ETA: 1s - loss: 0.0057 - acc: 0.998 - ETA: 1s - loss: 0.0053 - acc: 0.999 - ETA: 1s - loss: 0.0049 - acc: 0.999 - ETA: 1s - loss: 0.0045 - acc: 0.999 - ETA: 1s - loss: 0.0041 - acc: 0.999 - ETA: 0s - loss: 0.0043 - acc: 0.999 - ETA: 0s - loss: 0.0109 - acc: 0.997 - ETA: 0s - loss: 0.0151 - acc: 0.995 - ETA: 0s - loss: 0.0142 - acc: 0.995 - ETA: 0s - loss: 0.0139 - acc: 0.996 - ETA: 0s - loss: 0.0135 - acc: 0.996 - ETA: 0s - loss: 0.0132 - acc: 0.996 - 3s 1ms/step - loss: 0.0129 - acc: 0.9966\n",
      "Epoch 48/50\n",
      "2087/2087 [==============================] - ETA: 2s - loss: 0.0517 - acc: 0.990 - ETA: 2s - loss: 0.0332 - acc: 0.990 - ETA: 2s - loss: 0.0245 - acc: 0.993 - ETA: 2s - loss: 0.0189 - acc: 0.995 - ETA: 2s - loss: 0.0152 - acc: 0.996 - ETA: 1s - loss: 0.0127 - acc: 0.996 - ETA: 1s - loss: 0.0120 - acc: 0.995 - ETA: 1s - loss: 0.0105 - acc: 0.996 - ETA: 1s - loss: 0.0095 - acc: 0.996 - ETA: 1s - loss: 0.0086 - acc: 0.997 - ETA: 1s - loss: 0.0079 - acc: 0.997 - ETA: 1s - loss: 0.0073 - acc: 0.997 - ETA: 1s - loss: 0.0068 - acc: 0.997 - ETA: 0s - loss: 0.0066 - acc: 0.997 - ETA: 0s - loss: 0.0062 - acc: 0.998 - ETA: 0s - loss: 0.0087 - acc: 0.997 - ETA: 0s - loss: 0.0089 - acc: 0.997 - ETA: 0s - loss: 0.0085 - acc: 0.997 - ETA: 0s - loss: 0.0081 - acc: 0.997 - ETA: 0s - loss: 0.0094 - acc: 0.997 - 3s 1ms/step - loss: 0.0090 - acc: 0.9971\n",
      "Epoch 49/50\n",
      "2087/2087 [==============================] - ETA: 2s - loss: 2.4407e-04 - acc: 1.000 - ETA: 2s - loss: 3.1700e-04 - acc: 1.000 - ETA: 2s - loss: 8.6390e-04 - acc: 1.000 - ETA: 2s - loss: 6.6546e-04 - acc: 1.000 - ETA: 2s - loss: 5.4154e-04 - acc: 1.000 - ETA: 2s - loss: 0.0033 - acc: 0.9983    - ETA: 1s - loss: 0.0029 - acc: 0.998 - ETA: 1s - loss: 0.0027 - acc: 0.998 - ETA: 1s - loss: 0.0024 - acc: 0.998 - ETA: 1s - loss: 0.0026 - acc: 0.999 - ETA: 1s - loss: 0.0024 - acc: 0.999 - ETA: 1s - loss: 0.0022 - acc: 0.999 - ETA: 1s - loss: 0.0068 - acc: 0.998 - ETA: 0s - loss: 0.0063 - acc: 0.998 - ETA: 0s - loss: 0.0063 - acc: 0.998 - ETA: 0s - loss: 0.0060 - acc: 0.998 - ETA: 0s - loss: 0.0067 - acc: 0.998 - ETA: 0s - loss: 0.0064 - acc: 0.998 - ETA: 0s - loss: 0.0062 - acc: 0.998 - ETA: 0s - loss: 0.0062 - acc: 0.998 - 3s 1ms/step - loss: 0.0061 - acc: 0.9986\n",
      "Epoch 50/50\n",
      "2087/2087 [==============================] - ETA: 2s - loss: 0.0285 - acc: 0.990 - ETA: 2s - loss: 0.0145 - acc: 0.995 - ETA: 2s - loss: 0.0101 - acc: 0.996 - ETA: 2s - loss: 0.0077 - acc: 0.997 - ETA: 2s - loss: 0.0113 - acc: 0.996 - ETA: 1s - loss: 0.0096 - acc: 0.996 - ETA: 1s - loss: 0.0087 - acc: 0.997 - ETA: 1s - loss: 0.0076 - acc: 0.997 - ETA: 1s - loss: 0.0074 - acc: 0.997 - ETA: 1s - loss: 0.0067 - acc: 0.998 - ETA: 1s - loss: 0.0096 - acc: 0.997 - ETA: 1s - loss: 0.0121 - acc: 0.995 - ETA: 1s - loss: 0.0113 - acc: 0.996 - ETA: 0s - loss: 0.0105 - acc: 0.996 - ETA: 0s - loss: 0.0098 - acc: 0.996 - ETA: 0s - loss: 0.0108 - acc: 0.996 - ETA: 0s - loss: 0.0102 - acc: 0.996 - ETA: 0s - loss: 0.0100 - acc: 0.996 - ETA: 0s - loss: 0.0095 - acc: 0.996 - ETA: 0s - loss: 0.0091 - acc: 0.997 - 3s 2ms/step - loss: 0.0088 - acc: 0.9971\n"
     ]
    },
    {
     "data": {
      "text/plain": [
       "<keras.callbacks.History at 0x1de94f117f0>"
      ]
     },
     "execution_count": 6,
     "metadata": {},
     "output_type": "execute_result"
    }
   ],
   "source": [
    "model = get_model()\n",
    "model.fit(X_train, y_train_hot,\n",
    "          batch_size=batch_size, \n",
    "          epochs=epochs, \n",
    "          verbose=verbose\n",
    "         )"
   ]
  },
  {
   "cell_type": "code",
   "execution_count": 7,
   "metadata": {},
   "outputs": [
    {
     "name": "stdout",
     "output_type": "stream",
     "text": [
      "cat\n"
     ]
    }
   ],
   "source": [
    "print(predict('./data/cat/1a9afd33_nohash_0.wav', model=model))"
   ]
  },
  {
   "cell_type": "code",
   "execution_count": 8,
   "metadata": {},
   "outputs": [
    {
     "name": "stdout",
     "output_type": "stream",
     "text": [
      "1392/1392 [==============================] - ETA:  - ETA:  - ETA:  - ETA:  - ETA:  - ETA:  - ETA:  - ETA:  - ETA:  - 1s 388us/step\n"
     ]
    }
   ],
   "source": [
    "test_loss, test_acc = model.evaluate(X_test, y_test_hot)"
   ]
  },
  {
   "cell_type": "code",
   "execution_count": 9,
   "metadata": {},
   "outputs": [
    {
     "data": {
      "text/plain": [
       "0.9712643678160919"
      ]
     },
     "execution_count": 9,
     "metadata": {},
     "output_type": "execute_result"
    }
   ],
   "source": [
    "test_acc"
   ]
  },
  {
   "cell_type": "code",
   "execution_count": 1,
   "metadata": {
    "collapsed": true
   },
   "outputs": [],
   "source": [
    "from sklearn.metrics import roc_auc_score"
   ]
  },
  {
   "cell_type": "code",
   "execution_count": null,
   "metadata": {
    "collapsed": true
   },
   "outputs": [],
   "source": []
  }
 ],
 "metadata": {
  "kernelspec": {
   "display_name": "Python 3",
   "language": "python",
   "name": "python3"
  },
  "language_info": {
   "codemirror_mode": {
    "name": "ipython",
    "version": 3
   },
   "file_extension": ".py",
   "mimetype": "text/x-python",
   "name": "python",
   "nbconvert_exporter": "python",
   "pygments_lexer": "ipython3",
   "version": "3.6.3"
  }
 },
 "nbformat": 4,
 "nbformat_minor": 2
}
