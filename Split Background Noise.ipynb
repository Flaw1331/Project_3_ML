{
 "cells": [
  {
   "cell_type": "code",
   "execution_count": 6,
   "metadata": {},
   "outputs": [],
   "source": [
    "from pydub import AudioSegment\n",
    "import pydub.scipy_effects\n",
    "import pydub\n",
    "import math\n",
    "import io\n",
    "import os"
   ]
  },
  {
   "cell_type": "code",
   "execution_count": 32,
   "metadata": {},
   "outputs": [
    {
     "name": "stdout",
     "output_type": "stream",
     "text": [
      "5\n"
     ]
    }
   ],
   "source": [
    "directory = './background_noise'\n",
    "t1 = 0\n",
    "t2 = 1\n",
    "j = 0"
   ]
  },
  {
   "cell_type": "code",
   "execution_count": 33,
   "metadata": {},
   "outputs": [
    {
     "name": "stdout",
     "output_type": "stream",
     "text": [
      "./background_noise\\doing_the_dishes.wav\n",
      "./background_noise\\dude_miaowing.wav\n",
      "./background_noise\\exercise_bike.wav\n",
      "./background_noise\\pink_noise.wav\n",
      "./background_noise\\running_tap.wav\n",
      "./background_noise\\white_noise.wav\n"
     ]
    }
   ],
   "source": [
    "for filename in os.listdir(directory):\n",
    "        file = os.path.join(directory, filename)\n",
    "        print(file)\n",
    "        filu = AudioSegment.from_wav(file)\n",
    "        for i in range(0, math.ceil(len(filu)/1000)):\n",
    "            t1 = t1 * 1000 #Works in milliseconds\n",
    "            t2 = t2 * 1000\n",
    "            newAudio = filu[t1:t2]           \n",
    "            newAudio.export('./background_samples/' + \"file_\" + str(j) + '_' + str(i) + \".wav\", format=\"wav\")\n",
    "            t1 = (t1 / 1000) + 1\n",
    "            t2 = (t2 / 1000) + 1 \n",
    "        j = j + 1    \n",
    "        t1 = 0\n",
    "        t2 = 1\n",
    "            "
   ]
  }
 ],
 "metadata": {
  "kernelspec": {
   "display_name": "Python 3",
   "language": "python",
   "name": "python3"
  },
  "language_info": {
   "codemirror_mode": {
    "name": "ipython",
    "version": 3
   },
   "file_extension": ".py",
   "mimetype": "text/x-python",
   "name": "python",
   "nbconvert_exporter": "python",
   "pygments_lexer": "ipython3",
   "version": "3.6.5"
  }
 },
 "nbformat": 4,
 "nbformat_minor": 2
}
